{
  "cells": [
    {
      "cell_type": "markdown",
      "metadata": {
        "id": "view-in-github",
        "colab_type": "text"
      },
      "source": [
        "<a href=\"https://colab.research.google.com/github/unmatched78/just_doit/blob/main/Industrial_Accident_Causal_Analysis.ipynb\" target=\"_parent\"><img src=\"https://colab.research.google.com/assets/colab-badge.svg\" alt=\"Open In Colab\"/></a>"
      ]
    },
    {
      "source": [
        "# IMPORTANT: RUN THIS CELL IN ORDER TO IMPORT YOUR KAGGLE DATA SOURCES,\n",
        "# THEN FEEL FREE TO DELETE THIS CELL.\n",
        "# NOTE: THIS NOTEBOOK ENVIRONMENT DIFFERS FROM KAGGLE'S PYTHON\n",
        "# ENVIRONMENT SO THERE MAY BE MISSING LIBRARIES USED BY YOUR\n",
        "# NOTEBOOK.\n",
        "import kagglehub\n",
        "organizations_ihmstefanini_industrial_safety_and_health_analytics_database_path = kagglehub.dataset_download('organizations/ihmstefanini/industrial-safety-and-health-analytics-database')\n",
        "\n",
        "print('Data source import complete.')\n"
      ],
      "metadata": {
        "id": "wuNJ5xImpq27"
      },
      "cell_type": "code",
      "outputs": [],
      "execution_count": null
    },
    {
      "metadata": {
        "id": "cdYn4CWnpq3J"
      },
      "cell_type": "markdown",
      "source": [
        "<h2 style=\"text-align:center;font-size:200%;;\">Industrial Accident Causal Analysis </h2>\n",
        "<h3  style=\"text-align:center;\">Keywords : <span class=\"label label-success\">Manufacturing</span> <span class=\"label label-success\">EDA</span> <span class=\"label label-success\">Visualization</span> <span class=\"label label-success\">Feature Engineering</span> <span class=\"label label-success\">NLP</span> <span class=\"label label-success\">Causal Analysis</span> <span class=\"label label-success\">Sentiment Analysis</span></h3>"
      ]
    },
    {
      "metadata": {
        "id": "4Ilkby5rpq3O"
      },
      "cell_type": "markdown",
      "source": [
        "## Table of Contents<a id='top'></a>\n",
        ">1. [Overview](#1.-Overview)  \n",
        ">    * [Project Detail](#Project-Detail)\n",
        ">    * [Goal of this notebook](#Goal-of-this-notebook)\n",
        ">1. [Import libraries](#2.-Import-libraries)\n",
        ">1. [Load the dataset](#3.-Load-the-dataset)\n",
        ">1. [Pre-processing](#4.-Pre-processing)\n",
        ">    * [NLP Pre-processing](#NLP-Pre-processing)\n",
        ">    * [Sentiment Analysis](#Sentiment-Analysis)\n",
        ">1. [EDA](#5.-EDA)  \n",
        ">    * [Univariate Analysis](#Univariate-Analysis)\n",
        ">    * [Multivariate Analysis](#Multivariate-Analysis)\n",
        ">    * [NLP Analysis](#NLP-Analysis)\n",
        ">1. [Modeling](#6.-Modeling)\n",
        ">    * [Feature Engineering](#Feature-Engineering)\n",
        ">    * [Case1 : Accident Level](#Case1-:-Accident-Level)\n",
        ">    * [Case2 : Potential Accident Level](#Case2-:-Potential-Accident-Level)\n",
        ">1. [Conclusion](#7.-Conclusion)\n",
        ">    * [Task Submission](#Task-Submission)\n",
        ">1. [References](#8.-References)"
      ]
    },
    {
      "metadata": {
        "id": "DBnKNHt2pq3R"
      },
      "cell_type": "markdown",
      "source": [
        "# 1. Overview\n",
        "## Project Detail\n",
        ">In [this dataset](https://www.kaggle.com/ihmstefanini/industrial-safety-and-health-analytics-database), the information about accidents in 12 manufacturing plants in 3 countries are given by a brazilian company, [IHM Stefanini](https://en.ihm.com.br/). We need to use this dataset to understand why accidents occur, and discover clues to reduce tragedic accidents.<br/>\n",
        "><p>Dataset columns are below:</p>\n",
        "><ul>\n",
        "><li><b>Date</b> : timestamp or time/date information</li>\n",
        "><li><b>Countries</b> : which country the accident occurred (<b>anonymized</b>)</li>\n",
        "><li><b>Local</b> : the city where the manufacturing plant is located (<b>anonymized</b>)</li>\n",
        "><li><b>Industry sector</b> : which sector the plant belongs to</li>\n",
        "><li><b>Accident level</b> : from I to VI, it registers how severe was the accident (I means not severe but VI means very severe)</li>\n",
        "><li><b>Potential Accident Level</b> : Depending on the Accident Level, the database also registers how severe the accident could have been (due to other factors involved in the accident)</li>\n",
        "><li><b>Genre</b> : if the person is male of female</li>\n",
        "><li><b>Employee or Third Party</b> : if the injured person is an employee or a third party</li>\n",
        "><li><b>Critical Risk</b> : some description of the risk involved in the accident</li>\n",
        "><li><b>Description</b> : Detailed description of how the accident happened</li>\n",
        "></ul>\n",
        "\n",
        "## Goal of this notebook\n",
        ">* Practice Pre-processing technique\n",
        "    * Time-related feature extraction\n",
        "    * NLP pre-precessing(lower-casing, lemmatizing, stemming and removing stopwords)\n",
        ">* Practice EDA technique\n",
        ">* Practice visualising technique(especially using bokeh via holoviews)\n",
        ">* Practice feature enginieering technique\n",
        ">    * Time-related features\n",
        ">    * NLP features(TF-IDF)\n",
        ">* Practice modeling technique\n",
        ">    * LightGBM(+ plotting the tree)\n",
        ">* Causal analysis skill"
      ]
    },
    {
      "metadata": {
        "id": "rDki02r7pq3U"
      },
      "cell_type": "markdown",
      "source": [
        "<a href=\"#top\" class=\"btn btn-success btn-sm active\" role=\"button\" aria-pressed=\"true\" style=\"color:white;\">Table of Contents</a>"
      ]
    },
    {
      "metadata": {
        "id": "G84u-wUapq3W"
      },
      "cell_type": "markdown",
      "source": [
        "# 2. Import libraries"
      ]
    },
    {
      "metadata": {
        "_uuid": "8f2839f25d086af736a60e9eeb907d3b93b6e0e5",
        "_cell_guid": "b1076dfc-b9ad-4769-8c92-a6c4dae69d19",
        "trusted": true,
        "_kg_hide-output": true,
        "id": "wA0HFGdlpq3Y"
      },
      "cell_type": "code",
      "source": [
        "import numpy as np\n",
        "import pandas as pd\n",
        "import seaborn as sns\n",
        "import matplotlib.pyplot as plt\n",
        "from sklearn.ensemble import RandomForestClassifier\n",
        "from sklearn.model_selection import train_test_split\n",
        "from sklearn.preprocessing import LabelEncoder\n",
        "from sklearn.metrics import accuracy_score, f1_score, roc_auc_score\n",
        "import os\n",
        "from sklearn.feature_extraction.text import TfidfVectorizer\n",
        "from nltk import tokenize,stem\n",
        "import holoviews as hv\n",
        "from holoviews import opts\n",
        "hv.extension('bokeh')\n",
        "import lightgbm as lgb\n",
        "import nltk\n",
        "from nltk.util import ngrams\n",
        "nltk.download('vader_lexicon')\n",
        "from nltk.sentiment.vader import SentimentIntensityAnalyzer\n",
        "from wordcloud import WordCloud, STOPWORDS\n",
        "import shap\n",
        "shap.initjs()"
      ],
      "execution_count": null,
      "outputs": []
    },
    {
      "metadata": {
        "id": "drkvTTnupq3b"
      },
      "cell_type": "markdown",
      "source": [
        "<a href=\"#top\" class=\"btn btn-success btn-sm active\" role=\"button\" aria-pressed=\"true\" style=\"color:white;\">Table of Contents</a>"
      ]
    },
    {
      "metadata": {
        "id": "ioyZc6mipq3c"
      },
      "cell_type": "markdown",
      "source": [
        "# 3. Load the dataset"
      ]
    },
    {
      "metadata": {
        "trusted": true,
        "_kg_hide-output": true,
        "id": "QZSPIEeCpq3e"
      },
      "cell_type": "code",
      "source": [
        "for dirname, _, filenames in os.walk('/kaggle/input'):\n",
        "    for filename in filenames:\n",
        "        print(os.path.join(dirname, filename))"
      ],
      "execution_count": null,
      "outputs": []
    },
    {
      "metadata": {
        "_kg_hide-output": true,
        "trusted": true,
        "id": "mfNjQfTBpq3g"
      },
      "cell_type": "code",
      "source": [
        "df = pd.read_csv(\"/kaggle/input/industrial-safety-and-health-analytics-database/IHMStefanini_industrial_safety_and_health_database_with_accidents_description.csv\")\n",
        "df.head(3)"
      ],
      "execution_count": null,
      "outputs": []
    },
    {
      "metadata": {
        "_uuid": "d629ff2d2480ee46fbb7e2d37f6b5fab8052498a",
        "_cell_guid": "79c7e3d0-c299-4dcb-8224-4455121ee9b0",
        "trusted": true,
        "_kg_hide-output": true,
        "id": "laT2I350pq3h"
      },
      "cell_type": "code",
      "source": [
        "df.drop(\"Unnamed: 0\", axis=1, inplace=True)\n",
        "df.rename(columns={'Data':'Date', 'Countries':'Country', 'Genre':'Gender', 'Employee or Third Party':'Employee type'}, inplace=True)\n",
        "df.head(3)"
      ],
      "execution_count": null,
      "outputs": []
    },
    {
      "metadata": {
        "id": "k4oVH631pq3i"
      },
      "cell_type": "markdown",
      "source": [
        "<a href=\"#top\" class=\"btn btn-success btn-sm active\" role=\"button\" aria-pressed=\"true\" style=\"color:white;\">Table of Contents</a>"
      ]
    },
    {
      "metadata": {
        "id": "X0VIy76Ypq3j"
      },
      "cell_type": "markdown",
      "source": [
        "# 4. Pre-processing"
      ]
    },
    {
      "metadata": {
        "id": "yTxCzS74pq3k"
      },
      "cell_type": "markdown",
      "source": [
        ">Accidents may increase or decrease throughout the year or month, so I added datetime features such as year,month and day."
      ]
    },
    {
      "metadata": {
        "trusted": true,
        "_kg_hide-output": true,
        "id": "9q8-fnbSpq3k"
      },
      "cell_type": "code",
      "source": [
        "df['Date'] = pd.to_datetime(df['Date'])\n",
        "df['Year'] = df['Date'].apply(lambda x : x.year)\n",
        "df['Month'] = df['Date'].apply(lambda x : x.month)\n",
        "df['Day'] = df['Date'].apply(lambda x : x.day)\n",
        "df['Weekday'] = df['Date'].apply(lambda x : x.day_name())\n",
        "df['WeekofYear'] = df['Date'].apply(lambda x : x.weekofyear)\n",
        "df.head(3)"
      ],
      "execution_count": null,
      "outputs": []
    },
    {
      "metadata": {
        "id": "stl93I88pq3l"
      },
      "cell_type": "markdown",
      "source": [
        "### Seasonal variable\n",
        "><div class=\"alert alert-success\" role=\"alert\">\n",
        ">Accordin to <a href='https://www.kaggle.com/ihmstefanini/industrial-safety-and-health-analytics-database/discussion/54113'>this discussion</a>, countries where the dataset was collected is anonymized but they are all located in South America. So in this analysis, let's assume the dataset was collected in Brazil.<br/>\n",
        ">It is said in <a href='https://seasonsyear.com/Brazil'>this web page</a> that Brazil has four climatological seasons as below.\n",
        "><ul>\n",
        ">    <li><b>Spring</b> : September to November</li>\n",
        ">    <li><b>Summer</b> : December to February</li>\n",
        ">    <li><b>Autumn</b> : March to May</li>\n",
        ">    <li><b>Winter</b> : June to August</li>\n",
        "></ul>\n",
        ">We can create seasonal variable based on month variable.\n",
        "></div>"
      ]
    },
    {
      "metadata": {
        "id": "LykNl0P3pq3l"
      },
      "cell_type": "markdown",
      "source": [
        ">function to convert month variable into seasons"
      ]
    },
    {
      "metadata": {
        "trusted": true,
        "id": "HLkUdin7pq3m"
      },
      "cell_type": "code",
      "source": [
        "def month2seasons(x):\n",
        "    if x in [9, 10, 11]:\n",
        "        season = 'Spring'\n",
        "    elif x in [12, 1, 2]:\n",
        "        season = 'Summer'\n",
        "    elif x in [3, 4, 5]:\n",
        "        season = 'Autumn'\n",
        "    elif x in [6, 7, 8]:\n",
        "        season = 'Winter'\n",
        "    return season"
      ],
      "execution_count": null,
      "outputs": []
    },
    {
      "metadata": {
        "_kg_hide-output": true,
        "trusted": true,
        "id": "EQTNkE14pq3n"
      },
      "cell_type": "code",
      "source": [
        "df['Season'] = df['Month'].apply(month2seasons)\n",
        "df.head(3)"
      ],
      "execution_count": null,
      "outputs": []
    },
    {
      "metadata": {
        "id": "bTrkKj3gpq3n"
      },
      "cell_type": "markdown",
      "source": [
        "## NLP Pre-processing\n",
        ">Description column contains the details of why accidents happend. So I tried to add new features by using this important information with NLP technique."
      ]
    },
    {
      "metadata": {
        "id": "ycwKsS6gpq3o"
      },
      "cell_type": "markdown",
      "source": [
        ">In addition to the predifined stopwords in WORDCLOUD, I defined handmade-stopwords list by inspecting the documents in 'Description' column."
      ]
    },
    {
      "metadata": {
        "trusted": true,
        "_kg_hide-output": true,
        "id": "ayvuC9s2pq3o"
      },
      "cell_type": "code",
      "source": [
        "STOPWORDS.update([\"cm\", \"kg\", \"mr\", \"wa\" ,\"nv\", \"ore\", \"da\", \"pm\", \"am\", \"cx\"])\n",
        "print(STOPWORDS)"
      ],
      "execution_count": null,
      "outputs": []
    },
    {
      "metadata": {
        "id": "ceIEC3LBpq3q"
      },
      "cell_type": "markdown",
      "source": [
        ">NLP preprocessing pipeline is a little complicated, so I made preprocessing function."
      ]
    },
    {
      "metadata": {
        "trusted": true,
        "id": "nCNcB0Repq3q"
      },
      "cell_type": "code",
      "source": [
        "def nlp_preprocesser(row):\n",
        "    sentence = row.Description\n",
        "    #convert all characters to lowercase\n",
        "    lowered = sentence.lower()\n",
        "    tok = tokenize.word_tokenize(lowered)\n",
        "\n",
        "    #lemmatizing & stemming\n",
        "    lemmatizer = stem.WordNetLemmatizer()\n",
        "    lem = [lemmatizer.lemmatize(i) for i in tok if i not in STOPWORDS]\n",
        "    stemmer = stem.PorterStemmer()\n",
        "    stems = [stemmer.stem(i) for i in lem if i not in STOPWORDS]\n",
        "\n",
        "    #remove non-alphabetical characters like '(', '.' or '!'\n",
        "    alphas = [i for i in stems if i.isalpha() and (i not in STOPWORDS)]\n",
        "    return \" \".join(alphas)"
      ],
      "execution_count": null,
      "outputs": []
    },
    {
      "metadata": {
        "id": "A7gAk-0cpq3r"
      },
      "cell_type": "markdown",
      "source": [
        ">convert text into applicable format by lower-casing, tokenizing, lemmatizing and stemming."
      ]
    },
    {
      "metadata": {
        "_kg_hide-output": true,
        "trusted": true,
        "id": "YlUqF5qypq3r"
      },
      "cell_type": "code",
      "source": [
        "df['Description_processed'] = df.apply(nlp_preprocesser, axis=1)\n",
        "df.head(3)"
      ],
      "execution_count": null,
      "outputs": []
    },
    {
      "metadata": {
        "id": "cncm01Vhpq3s"
      },
      "cell_type": "markdown",
      "source": [
        "## Sentiment Analysis\n",
        ">Positiveness or negativeness of the description of accidents may be related with their severeness."
      ]
    },
    {
      "metadata": {
        "trusted": true,
        "id": "b2LSHRmEpq3s"
      },
      "cell_type": "code",
      "source": [
        "def sentiment2score(text):\n",
        "    analyzer = SentimentIntensityAnalyzer()\n",
        "    sent_score = analyzer.polarity_scores(text)[\"compound\"]\n",
        "    return float(sent_score)"
      ],
      "execution_count": null,
      "outputs": []
    },
    {
      "metadata": {
        "trusted": true,
        "id": "1oEDjatHpq3t"
      },
      "cell_type": "code",
      "source": [
        "df['Description_sentiment_score'] = df['Description'].apply(lambda x: sentiment2score(x))\n",
        "df.head(3)"
      ],
      "execution_count": null,
      "outputs": []
    },
    {
      "metadata": {
        "id": "XZJpJay5pq3u"
      },
      "cell_type": "markdown",
      "source": [
        "<a href=\"#top\" class=\"btn btn-success btn-sm active\" role=\"button\" aria-pressed=\"true\" style=\"color:white;\">Table of Contents</a>"
      ]
    },
    {
      "metadata": {
        "id": "KqVcfp8vpq3v"
      },
      "cell_type": "markdown",
      "source": [
        "# 5. EDA"
      ]
    },
    {
      "metadata": {
        "id": "AUS4fBQDpq3w"
      },
      "cell_type": "markdown",
      "source": [
        "## Univariate Analysis"
      ]
    },
    {
      "metadata": {
        "id": "uo2q5jbjpq3x"
      },
      "cell_type": "markdown",
      "source": [
        "### Country"
      ]
    },
    {
      "metadata": {
        "_kg_hide-input": true,
        "trusted": true,
        "id": "_BHmp4ZLpq3x"
      },
      "cell_type": "code",
      "source": [
        "country_cnt = np.round(df['Country'].value_counts(normalize=True) * 100)\n",
        "hv.Bars(country_cnt).opts(title=\"Country Count\", color=\"green\", xlabel=\"Countries\", ylabel=\"Percentage\", yformatter='%d%%')\\\n",
        "                .opts(opts.Bars(width=500, height=300,tools=['hover'],show_grid=True))\\\n",
        "            * hv.Text('Country_01', 15, f\"{int(country_cnt.loc['Country_01'])}%\")\\\n",
        "            * hv.Text('Country_02', 15, f\"{int(country_cnt.loc['Country_02'])}%\")\\\n",
        "            * hv.Text('Country_03', 15, f\"{int(country_cnt.loc['Country_03'])}%\")"
      ],
      "execution_count": null,
      "outputs": []
    },
    {
      "metadata": {
        "id": "79rW-WkSpq3y"
      },
      "cell_type": "markdown",
      "source": [
        "### Local"
      ]
    },
    {
      "metadata": {
        "_kg_hide-input": true,
        "trusted": true,
        "id": "q-aeo1GPpq3y"
      },
      "cell_type": "code",
      "source": [
        "local_cnt = np.round(df['Local'].value_counts(normalize=True) * 100)\n",
        "hv.Bars(local_cnt).opts(title=\"Local Count\", color=\"green\", xlabel=\"Locals\", ylabel=\"Percentage\", yformatter='%d%%')\\\n",
        "                .opts(opts.Bars(width=700, height=300,tools=['hover'],show_grid=True))"
      ],
      "execution_count": null,
      "outputs": []
    },
    {
      "metadata": {
        "id": "m8QuxdWppq3z"
      },
      "cell_type": "markdown",
      "source": [
        "### Industry Sector"
      ]
    },
    {
      "metadata": {
        "trusted": true,
        "_kg_hide-input": true,
        "id": "DjeM7N_epq3z"
      },
      "cell_type": "code",
      "source": [
        "sector_cnt = np.round(df['Industry Sector'].value_counts(normalize=True) * 100)\n",
        "hv.Bars(sector_cnt).opts(title=\"Industry Sector Count\", color=\"green\", xlabel=\"Sectors\", ylabel=\"Percentage\", yformatter='%d%%')\\\n",
        "                .opts(opts.Bars(width=500, height=300,tools=['hover'],show_grid=True))\\\n",
        "                * hv.Text('Mining', 15, f\"{int(sector_cnt.loc['Mining'])}%\")\\\n",
        "                * hv.Text('Metals', 15, f\"{int(sector_cnt.loc['Metals'])}%\")\\\n",
        "                * hv.Text('Others', 15, f\"{int(sector_cnt.loc['Others'])}%\")"
      ],
      "execution_count": null,
      "outputs": []
    },
    {
      "metadata": {
        "id": "wJ2aY9dupq4E"
      },
      "cell_type": "markdown",
      "source": [
        "<a href=\"#top\" class=\"btn btn-success btn-sm active\" role=\"button\" aria-pressed=\"true\" style=\"color:white;\">Table of Contents</a>"
      ]
    },
    {
      "metadata": {
        "id": "qvVBTetLpq4F"
      },
      "cell_type": "markdown",
      "source": [
        "### Accident Levels\n",
        "><div class=\"alert alert-success\" role=\"alert\">\n",
        "><ul>\n",
        ">    <li>The number of accidents decreases as the Accident Level increases.</li>\n",
        ">    <li>The number of accidents increases as the Potential Accident Level decreases.</li>\n",
        "></ul>\n",
        "></div>"
      ]
    },
    {
      "metadata": {
        "_kg_hide-input": true,
        "trusted": true,
        "id": "6MqXdSWXpq4F"
      },
      "cell_type": "code",
      "source": [
        "ac_level_cnt = np.round(df['Accident Level'].value_counts(normalize=True) * 100)\n",
        "pot_ac_level_cnt = np.round(df['Potential Accident Level'].value_counts(normalize=True) * 100, decimals=1)\n",
        "ac_pot = pd.concat([ac_level_cnt, pot_ac_level_cnt], axis=1,sort=False).fillna(0).rename(columns={'Accident Level':'Accident', 'Potential Accident Level':'Potential'})\n",
        "ac_pot = pd.melt(ac_pot.reset_index(), ['index']).rename(columns={'index':'Severity', 'variable':'Levels'})\n",
        "hv.Bars(ac_pot, ['Severity', 'Levels'], 'value').opts(opts.Bars(title=\"Accident Levels Count\", width=700, height=300,tools=['hover'],\\\n",
        "                                                                show_grid=True,xrotation=45, ylabel=\"Percentage\", yformatter='%d%%'))"
      ],
      "execution_count": null,
      "outputs": []
    },
    {
      "metadata": {
        "id": "CBhkUj_lpq4G"
      },
      "cell_type": "markdown",
      "source": [
        "### Gender\n",
        "><div class=\"alert alert-success\" role=\"alert\">\n",
        "><ul>\n",
        "><li>As a characteristic of the industry, the proportion of men is overwhelmingly.</li>\n",
        "></ul>\n",
        "></div>"
      ]
    },
    {
      "metadata": {
        "_kg_hide-input": true,
        "trusted": true,
        "id": "-kcBHC65pq4H"
      },
      "cell_type": "code",
      "source": [
        "gender_cnt = np.round(df['Gender'].value_counts(normalize=True) * 100)\n",
        "hv.Bars(gender_cnt).opts(title=\"Gender Count\", color=\"green\", xlabel=\"Gender\", ylabel=\"Percentage\", yformatter='%d%%')\\\n",
        "                .opts(opts.Bars(width=500, height=300,tools=['hover'],show_grid=True))"
      ],
      "execution_count": null,
      "outputs": []
    },
    {
      "metadata": {
        "id": "3q8VfcNJpq4H"
      },
      "cell_type": "markdown",
      "source": [
        "### Employee type\n",
        "><div class=\"alert alert-success\" role=\"alert\">\n",
        "><ul>\n",
        "><li>The large number of Third Party employee type indicates the difference of employement system in gender or industry sector.</li>\n",
        "></ul>\n",
        "></div>"
      ]
    },
    {
      "metadata": {
        "_kg_hide-input": true,
        "trusted": true,
        "id": "E_jyntklpq4I"
      },
      "cell_type": "code",
      "source": [
        "emp_type_cnt = np.round(df['Employee type'].value_counts(normalize=True) * 100)\n",
        "hv.Bars(emp_type_cnt).opts(title=\"Employee type Count\", color=\"green\", xlabel=\"Employee Type\", ylabel=\"Percentage\", yformatter='%d%%')\\\n",
        "                .opts(opts.Bars(width=500, height=300,tools=['hover'],show_grid=True))"
      ],
      "execution_count": null,
      "outputs": []
    },
    {
      "metadata": {
        "id": "kdIoRXm3pq4J"
      },
      "cell_type": "markdown",
      "source": [
        "<a href=\"#top\" class=\"btn btn-success btn-sm active\" role=\"button\" aria-pressed=\"true\" style=\"color:white;\">Table of Contents</a>"
      ]
    },
    {
      "metadata": {
        "id": "UzJMpT01pq4J"
      },
      "cell_type": "markdown",
      "source": [
        "### Critical Risks\n",
        "><div class=\"alert alert-success\" role=\"alert\">\n",
        "><ul>\n",
        "><li>Because most part of the Critical Risks are classified as 'Others', it is thought that there are too many risks to classify precisely</li>\n",
        "><li>And it is also thought that it takes so many time to analyze risks and reasons why the accidents occur.</li>\n",
        "></ul>\n",
        "></div>"
      ]
    },
    {
      "metadata": {
        "_kg_hide-input": true,
        "trusted": true,
        "id": "8peO8XIjpq4K"
      },
      "cell_type": "code",
      "source": [
        "cr_risk_cnt = np.round(df['Critical Risk'].value_counts(normalize=True) * 100)\n",
        "hv.Bars(cr_risk_cnt[::-1]).opts(title=\"Critical Risk Count\", color=\"green\", xlabel=\"Critical Risks\", ylabel=\"Percentage\", xformatter='%d%%')\\\n",
        "                .opts(opts.Bars(width=600, height=600,tools=['hover'],show_grid=True,invert_axes=True))"
      ],
      "execution_count": null,
      "outputs": []
    },
    {
      "metadata": {
        "id": "jg2v-Q9epq4K"
      },
      "cell_type": "markdown",
      "source": [
        "### Calendar\n",
        "><div class=\"alert alert-success\" role=\"alert\">\n",
        "><ul>\n",
        "><li>It seems that the number of accidents decreased in latter of the year / month.</li>\n",
        "><li>The number of accidents increased during the middle of the week and declined since the middle of the week.</li>\n",
        "></ul>\n",
        "></div>"
      ]
    },
    {
      "metadata": {
        "_kg_hide-input": true,
        "trusted": true,
        "id": "rpYb2y7lpq4L"
      },
      "cell_type": "code",
      "source": [
        "year_cnt = np.round(df['Year'].value_counts(normalize=True,sort=False) * 100)\n",
        "y = hv.Bars(year_cnt).opts(title=\"Year Count\", color=\"green\", xlabel=\"Years\")\n",
        "month_cnt = np.round(df['Month'].value_counts(normalize=True,sort=False) * 100)\n",
        "m = hv.Bars(month_cnt).opts(title=\"Month Count\", color=\"skyblue\", xlabel=\"Months\") * hv.Curve(month_cnt).opts(color='red', line_width=3)\n",
        "day_cnt = np.round(df['Day'].value_counts(normalize=True,sort=False) * 100)\n",
        "d = hv.Bars(day_cnt).opts(title=\"Day Count\", color=\"skyblue\", xlabel=\"Days\") * hv.Curve(day_cnt).opts(color='red', line_width=3)\n",
        "weekday_cnt = pd.DataFrame(np.round(df['Weekday'].value_counts(normalize=True,sort=False) * 100))\n",
        "weekday_cnt['week_num'] = [['Monday', 'Tuesday', 'Wednesday', 'Thursday', 'Friday', 'Saturday', 'Sunday'].index(i) for i in weekday_cnt.index]\n",
        "weekday_cnt.sort_values('week_num', inplace=True)\n",
        "w = hv.Bars((weekday_cnt.index, weekday_cnt.Weekday)).opts(title=\"Weekday Count\", color=\"green\", xlabel=\"Weekdays\") * hv.Curve(weekday_cnt['Weekday']).opts(color='red', line_width=3)\n",
        "(y + m + d + w).opts(opts.Bars(width=400, height=300,tools=['hover'],show_grid=True, ylabel=\"Percentage\", yformatter='%d%%')).cols(2)"
      ],
      "execution_count": null,
      "outputs": []
    },
    {
      "metadata": {
        "id": "6AiwLxwIpq4M"
      },
      "cell_type": "markdown",
      "source": [
        "### Season\n",
        "><div class=\"alert alert-success\" role=\"alert\">\n",
        "><ul>\n",
        "><li>The number of accidents increased in Summer and Autumn.</li>\n",
        "><li>It is thought that the occurrence of accidents is related to the climate(especially tempeature).</li>\n",
        "></ul>\n",
        "></div>"
      ]
    },
    {
      "metadata": {
        "_kg_hide-input": true,
        "trusted": true,
        "id": "uG4xNBPxpq4M"
      },
      "cell_type": "code",
      "source": [
        "season_cnt = pd.DataFrame(np.round(df['Season'].value_counts(normalize=True,sort=False) * 100).reset_index())\n",
        "season_cnt['season_order'] = season_cnt['index'].apply(lambda x: ['Spring','Summer','Autumn','Winter'].index(x))\n",
        "season_cnt.sort_values('season_order', inplace=True)\n",
        "season_cnt.index = season_cnt['index']\n",
        "season_cnt.drop(['index','season_order'], axis=1, inplace=True)\n",
        "hv.Bars(season_cnt).opts(title=\"Season Count\", color=\"green\", xlabel=\"Season\", ylabel=\"Percentage\", yformatter='%d%%')\\\n",
        "                .opts(opts.Bars(width=500, height=300,tools=['hover'],show_grid=True))"
      ],
      "execution_count": null,
      "outputs": []
    },
    {
      "metadata": {
        "id": "hK1f5-cBpq4P"
      },
      "cell_type": "markdown",
      "source": [
        "<a href=\"#top\" class=\"btn btn-success btn-sm active\" role=\"button\" aria-pressed=\"true\" style=\"color:white;\">Table of Contents</a>"
      ]
    },
    {
      "metadata": {
        "id": "IkF-B7Xdpq4Q"
      },
      "cell_type": "markdown",
      "source": [
        "## Multivariate Analysis"
      ]
    },
    {
      "metadata": {
        "id": "53S2LHNFpq4Q"
      },
      "cell_type": "markdown",
      "source": [
        "### Industry Sector by Countries\n",
        "><div class=\"alert alert-success\" role=\"alert\">\n",
        "><ul>\n",
        "><li>We can see that there are major industries by countries.</li><br/>\n",
        "><li><b>Country_01</b> : Mining</li>\n",
        "><li><b>Country_02</b> : Metals</li>\n",
        "><li><b>Country_03</b> : Others</li>\n",
        "></ul>\n",
        "></div>"
      ]
    },
    {
      "metadata": {
        "trusted": true,
        "_kg_hide-input": true,
        "id": "iWM3hFz2pq4R"
      },
      "cell_type": "code",
      "source": [
        "f = lambda x : np.round(x/x.sum() * 100)\n",
        "con_sector = df.groupby(['Country','Industry Sector'])['Industry Sector'].count().unstack().apply(f, axis=1)\n",
        "hv.Bars(pd.melt(con_sector.reset_index(), ['Country']), ['Country', 'Industry Sector'], 'value').opts(opts.Bars(title=\"Industry Sector by Countries Count\", width=800, height=300,tools=['hover'],\\\n",
        "                                                                show_grid=True,xrotation=0, ylabel=\"Percentage\", yformatter='%d%%'))"
      ],
      "execution_count": null,
      "outputs": []
    },
    {
      "metadata": {
        "id": "Mf7QcvbTpq4S"
      },
      "cell_type": "markdown",
      "source": [
        "###  Employee type by Gender\n",
        "><div class=\"alert alert-success\" role=\"alert\">\n",
        "><ul>\n",
        "><li>Ratio of employee types by gender is not different in each gender.</li>\n",
        "><li>The proportion of female with Third Party(Remote) is slightly higher than that of males.</li>\n",
        "><li>It is thought that this is because <u>males have more on-site work and females often do work far away from relatively safe sites</u>.</li>\n",
        "></ul>\n",
        "></div>"
      ]
    },
    {
      "metadata": {
        "trusted": true,
        "_kg_hide-input": true,
        "id": "b2TlvBJgpq4U"
      },
      "cell_type": "code",
      "source": [
        "f = lambda x : np.round(x/x.sum() * 100)\n",
        "em_gen = df.groupby(['Gender','Employee type'])['Employee type'].count().unstack().apply(f, axis=1)\n",
        "hv.Bars(pd.melt(em_gen.reset_index(), ['Gender']), ['Gender','Employee type'], 'value').opts(opts.Bars(title=\"Employee type by Gender Count\", width=800, height=300,tools=['hover'],\\\n",
        "                                                                show_grid=True,xrotation=0, ylabel=\"Percentage\", yformatter='%d%%'))"
      ],
      "execution_count": null,
      "outputs": []
    },
    {
      "metadata": {
        "id": "vCfMbZRtpq4U"
      },
      "cell_type": "markdown",
      "source": [
        "### Industry Sector by Gender\n",
        "><div class=\"alert alert-success\" role=\"alert\">\n",
        "><ul>\n",
        "><li>There are differences mainly in metals and mining between males and females.</li>\n",
        "><li>Same as employee type above, it is thought that <u>this is due to different safety level by industry sector</u>.</li>\n",
        "></ul>\n",
        "></div>"
      ]
    },
    {
      "metadata": {
        "_kg_hide-input": true,
        "trusted": true,
        "id": "7r-aGVIypq4V"
      },
      "cell_type": "code",
      "source": [
        "f = lambda x : np.round(x/x.sum() * 100)\n",
        "em_gen = df.groupby(['Gender','Industry Sector'])['Industry Sector'].count().unstack().apply(f, axis=1)\n",
        "hv.Bars(pd.melt(em_gen.reset_index(), ['Gender']), ['Gender','Industry Sector'], 'value').opts(opts.Bars(title=\"Industry Sector by Gender Count\", width=800, height=300,tools=['hover'],\\\n",
        "                                                                show_grid=True,xrotation=0, ylabel=\"Percentage\", yformatter='%d%%'))"
      ],
      "execution_count": null,
      "outputs": []
    },
    {
      "metadata": {
        "id": "zNYNDh-Qpq4V"
      },
      "cell_type": "markdown",
      "source": [
        "<a href=\"#top\" class=\"btn btn-success btn-sm active\" role=\"button\" aria-pressed=\"true\" style=\"color:white;\">Table of Contents</a>"
      ]
    },
    {
      "metadata": {
        "id": "8YcJ-TKspq4W"
      },
      "cell_type": "markdown",
      "source": [
        "### Accident Levels by Gender\n",
        "><div class=\"alert alert-success\" role=\"alert\">\n",
        "><ul>\n",
        "><li>In terms of <b>accident levels</b>, there are many mild risks at general accident level, but many serious risks at potential accident level.\n",
        "    <p>It can be said that <u>many potential accidents are overlooked and potentially high-risk accidents are possible</u>.</p></li>\n",
        "><li>In terms of <b>gender</b>, the general trend is the same, but males have a higher accident levels than females.\n",
        "    <p>Same as discussion above, it is thought that <u>this is due to different safety level by industry sector</u>.</p></li>\n",
        "></ul>\n",
        "></div>"
      ]
    },
    {
      "metadata": {
        "trusted": true,
        "_kg_hide-input": true,
        "id": "9rUhkTbHpq4X"
      },
      "cell_type": "code",
      "source": [
        "f = lambda x : np.round(x/x.sum() * 100)\n",
        "ac_gen = df.groupby(['Gender','Accident Level'])['Accident Level'].count().unstack().apply(f, axis=1)\n",
        "ac = hv.Bars(pd.melt(ac_gen.reset_index(), ['Gender']), ['Gender','Accident Level'], 'value').opts(opts.Bars(title=\"Accident Level by Gender Count\"))\n",
        "pot_ac_gen = df.groupby(['Gender','Potential Accident Level'])['Potential Accident Level'].count().unstack().apply(f, axis=1)\n",
        "pot_ac = hv.Bars(pd.melt(pot_ac_gen.reset_index(), ['Gender']), ['Gender','Potential Accident Level'], 'value').opts(opts.Bars(title=\"Potential Accident Level by Gender Count\"))\n",
        "(ac + pot_ac).opts(opts.Bars(width=400, height=300,tools=['hover'],show_grid=True,xrotation=0, ylabel=\"Percentage\", yformatter='%d%%'))"
      ],
      "execution_count": null,
      "outputs": []
    },
    {
      "metadata": {
        "id": "iMvRkG_dpq4Y"
      },
      "cell_type": "markdown",
      "source": [
        "### Accident Levels by Employee type\n",
        "><div class=\"alert alert-success\" role=\"alert\">\n",
        "><ul>\n",
        "><li>For both accident levels, the incidence of Employee is higher at low accident levels, but <u>the incidence of Third parties seems to be slightly higher at <b>high accident levels</b></u>.</li>\n",
        "></ul>\n",
        "></div>"
      ]
    },
    {
      "metadata": {
        "_kg_hide-input": true,
        "trusted": true,
        "id": "Ly0TIUXupq4Z"
      },
      "cell_type": "code",
      "source": [
        "f = lambda x : np.round(x/x.sum() * 100)\n",
        "ac_em = df.groupby(['Employee type','Accident Level'])['Accident Level'].count().unstack().apply(f, axis=1)\n",
        "ac = hv.Bars(pd.melt(ac_em.reset_index(), ['Employee type']), ['Employee type','Accident Level'], 'value').opts(opts.Bars(title=\"Accident Level by Employee type Count\"))\n",
        "pot_ac_em = df.groupby(['Employee type','Potential Accident Level'])['Potential Accident Level'].count().unstack().apply(f, axis=1)\n",
        "pot_ac = hv.Bars(pd.melt(pot_ac_em.reset_index(), ['Employee type']), ['Employee type','Potential Accident Level'], 'value').opts(opts.Bars(title=\"Potential Accident Level by Employee type Count\"))\n",
        "(ac + pot_ac).opts(opts.Bars(width=400, height=300,tools=['hover'],show_grid=True,xrotation=0, ylabel=\"Percentage\", yformatter='%d%%',fontsize={'title':9}))"
      ],
      "execution_count": null,
      "outputs": []
    },
    {
      "metadata": {
        "id": "0bFk4en4pq4a"
      },
      "cell_type": "markdown",
      "source": [
        "<a href=\"#top\" class=\"btn btn-success btn-sm active\" role=\"button\" aria-pressed=\"true\" style=\"color:white;\">Table of Contents</a>"
      ]
    },
    {
      "metadata": {
        "id": "jub1fFrPpq4a"
      },
      "cell_type": "markdown",
      "source": [
        "### Accident Levels by Month\n",
        "><div class=\"alert alert-success\" role=\"alert\">\n",
        "><ul>\n",
        "><li>Both of the two accident level have the tendency that non-severe levels decreased throughout the year, <u>but severe levels did not changed much, and some of these levels increased slightly in the second half of the year</u>.</li>\n",
        "><li>The fact above seems to be related to <b>the skill level of the employees</b>, and <u>while their experiences can reduce minor mistakes, sometimes they can make serious mistakes accidentally</u>.</li>\n",
        "></ul>\n",
        "></div>"
      ]
    },
    {
      "metadata": {
        "_kg_hide-input": true,
        "trusted": true,
        "id": "g_PqQk3lpq4b"
      },
      "cell_type": "code",
      "source": [
        "f = lambda x : np.round(x/x.sum() * 100)\n",
        "ac_mo = df.groupby(['Month','Accident Level'])['Accident Level'].count().unstack().apply(f, axis=1).fillna(0)\n",
        "ac = hv.Curve(ac_mo['I'], label='I') * hv.Curve(ac_mo['II'], label='II') * hv.Curve(ac_mo['III'], label='III') * hv.Curve(ac_mo['IV'], label='IV') * hv.Curve(ac_mo['V'], label='V')\\\n",
        "        .opts(opts.Curve(title=\"Accident Level by Month Count\"))\n",
        "pot_ac_mo = df.groupby(['Month','Potential Accident Level'])['Potential Accident Level'].count().unstack().apply(f, axis=1).fillna(0)\n",
        "pot_ac = hv.Curve(pot_ac_mo['I'], label='I') * hv.Curve(pot_ac_mo['II'], label='II') * hv.Curve(pot_ac_mo['III'], label='III') * hv.Curve(pot_ac_mo['IV'], label='IV')\\\n",
        "        * hv.Curve(pot_ac_mo['V'], label='V') * hv.Curve(pot_ac_mo['VI'], label='VI').opts(opts.Curve(title=\"Potential Accident Level by Month Count\"))\n",
        "(ac+pot_ac).opts(opts.Curve(width=800, height=300,tools=['hover'],show_grid=True, ylabel=\"Percentage\", yformatter='%d%%')).cols(1)"
      ],
      "execution_count": null,
      "outputs": []
    },
    {
      "metadata": {
        "id": "oSHLEWPcpq4c"
      },
      "cell_type": "markdown",
      "source": [
        "### Accident Levels by Weekday\n",
        "><div class=\"alert alert-success\" role=\"alert\">\n",
        "><ul>\n",
        "><li>Both of the two accident level is thought that non-severe levels decreased in the first and the last of the week, but severe levels did not changed much.</li>\n",
        "><li>It can be said that <u>employees' experiences against work can reduce minor mistakes</u>.</li>\n",
        "></ul>\n",
        "></div>"
      ]
    },
    {
      "metadata": {
        "_kg_hide-input": true,
        "trusted": true,
        "id": "71UmK4bwpq4c"
      },
      "cell_type": "code",
      "source": [
        "f = lambda x : np.round(x/x.sum() * 100)\n",
        "ac_weekday = df.groupby(['Weekday','Accident Level'])['Accident Level'].count().unstack().apply(f, axis=1).fillna(0)\n",
        "ac_weekday['week_num'] = [['Monday', 'Tuesday', 'Wednesday', 'Thursday', 'Friday', 'Saturday', 'Sunday'].index(i) for i in ac_weekday.index]\n",
        "ac_weekday.sort_values('week_num', inplace=True)\n",
        "ac_weekday.drop('week_num', axis=1, inplace=True)\n",
        "ac = hv.Curve(ac_weekday['I'], label='I') * hv.Curve(ac_weekday['II'], label='II') * hv.Curve(ac_weekday['III'], label='III') * hv.Curve(ac_weekday['IV'], label='IV') * hv.Curve(ac_weekday['V'], label='V')\\\n",
        "        .opts(opts.Curve(title=\"Accident Level by Weekday Count\"))\n",
        "pot_ac_weekday = df.groupby(['Weekday','Potential Accident Level'])['Potential Accident Level'].count().unstack().apply(f, axis=0).fillna(0)\n",
        "pot_ac_weekday['week_num'] = [['Monday', 'Tuesday', 'Wednesday', 'Thursday', 'Friday', 'Saturday', 'Sunday'].index(i) for i in pot_ac_weekday.index]\n",
        "pot_ac_weekday.sort_values('week_num', inplace=True)\n",
        "pot_ac_weekday.drop('week_num', axis=1, inplace=True)\n",
        "pot_ac = hv.Curve(pot_ac_weekday['I'], label='I') * hv.Curve(pot_ac_weekday['II'], label='II') * hv.Curve(pot_ac_weekday['III'], label='III') * hv.Curve(pot_ac_weekday['IV'], label='IV')\\\n",
        "        * hv.Curve(pot_ac_weekday['V'], label='V') * hv.Curve(pot_ac_weekday['VI'], label='VI').opts(opts.Curve(title=\"Potential Accident Level by Weekday Count\"))\n",
        "(ac+pot_ac).opts(opts.Curve(width=800, height=300,tools=['hover'],show_grid=True, ylabel=\"Percentage\", yformatter='%d%%')).cols(1)"
      ],
      "execution_count": null,
      "outputs": []
    },
    {
      "metadata": {
        "id": "DPTQtwWnpq4d"
      },
      "cell_type": "markdown",
      "source": [
        "### Accident Levels by Season\n",
        "><div class=\"alert alert-success\" role=\"alert\">\n",
        "><ul>\n",
        "><li>As same as accident levels by month, both of the two accident level have the tendency that non-severe levels decreased throughout the year, <u>but severe levels did not changed much, and some of these levels increased slightly in the second half of the year</u>.</li>\n",
        "></ul>\n",
        "></div>"
      ]
    },
    {
      "metadata": {
        "_kg_hide-input": true,
        "trusted": true,
        "id": "nID42svTpq4e"
      },
      "cell_type": "code",
      "source": [
        "f = lambda x : np.round(x/x.sum() * 100)\n",
        "ac_season = df.groupby(['Season','Accident Level'])['Accident Level'].count().unstack().apply(f, axis=1).fillna(0)\n",
        "ac_season['season_num'] = [['Spring', 'Summer', 'Autumn', 'Winter'].index(i) for i in ac_season.index]\n",
        "ac_season.sort_values('season_num', inplace=True)\n",
        "ac_season.drop('season_num', axis=1, inplace=True)\n",
        "ac = hv.Curve(ac_season['I'], label='I') * hv.Curve(ac_season['II'], label='II') * hv.Curve(ac_season['III'], label='III') * hv.Curve(ac_season['IV'], label='IV') * hv.Curve(ac_season['V'], label='V')\\\n",
        "        .opts(opts.Curve(title=\"Accident Level by Season Count\"))\n",
        "pot_ac_season = df.groupby(['Season','Potential Accident Level'])['Potential Accident Level'].count().unstack().apply(f, axis=0).fillna(0)\n",
        "pot_ac_season['season_num'] = [['Spring', 'Summer', 'Autumn', 'Winter'].index(i) for i in pot_ac_season.index]\n",
        "pot_ac_season.sort_values('season_num', inplace=True)\n",
        "pot_ac_season.drop('season_num', axis=1, inplace=True)\n",
        "pot_ac = hv.Curve(pot_ac_season['I'], label='I') * hv.Curve(pot_ac_season['II'], label='II') * hv.Curve(pot_ac_season['III'], label='III') * hv.Curve(pot_ac_season['IV'], label='IV')\\\n",
        "        * hv.Curve(pot_ac_season['V'], label='V') * hv.Curve(pot_ac_season['VI'], label='VI').opts(opts.Curve(title=\"Potential Accident Level by Season Count\"))\n",
        "(ac+pot_ac).opts(opts.Curve(width=800, height=300,tools=['hover'],show_grid=True, ylabel=\"Percentage\", yformatter='%d%%')).cols(1)"
      ],
      "execution_count": null,
      "outputs": []
    },
    {
      "metadata": {
        "id": "3VAgayVppq4f"
      },
      "cell_type": "markdown",
      "source": [
        "<a href=\"#top\" class=\"btn btn-success btn-sm active\" role=\"button\" aria-pressed=\"true\" style=\"color:white;\">Table of Contents</a>"
      ]
    },
    {
      "metadata": {
        "id": "WJJKHx0Npq4g"
      },
      "cell_type": "markdown",
      "source": [
        "## NLP Analysis\n",
        ">Description about accidents is important to understand the cause of accidents, so we need to discover characteristical words or phrases indicating situation when accidents occured."
      ]
    },
    {
      "metadata": {
        "id": "SAo8N_t4pq4h"
      },
      "cell_type": "markdown",
      "source": [
        ">function to calculate ngram under several conditions"
      ]
    },
    {
      "metadata": {
        "trusted": true,
        "id": "seZHQN5Vpq4i"
      },
      "cell_type": "code",
      "source": [
        "def ngram_func(ngram, trg='', trg_value=''):\n",
        "    #trg_value is list-object\n",
        "    if (trg == '') or (trg_value == ''):\n",
        "        string_filterd =  df['Description_processed'].sum().split()\n",
        "    else:\n",
        "        string_filterd =  df[df[trg].isin(trg_value)]['Description_processed'].sum().split()\n",
        "    dic = nltk.FreqDist(nltk.ngrams(string_filterd, ngram)).most_common(30)\n",
        "    ngram_df = pd.DataFrame(dic, columns=['ngram','count'])\n",
        "    ngram_df.index = [' '.join(i) for i in ngram_df.ngram]\n",
        "    ngram_df.drop('ngram',axis=1, inplace=True)\n",
        "    return ngram_df"
      ],
      "execution_count": null,
      "outputs": []
    },
    {
      "metadata": {
        "id": "z-hgQyXlpq4m"
      },
      "cell_type": "markdown",
      "source": [
        "### Unigram\n",
        "><div class=\"alert alert-success\" role=\"alert\">\n",
        "><ul>\n",
        "><li>There are several words which is related to <b>hands</b>. For example <u>left, hand, right and finger</u>.</li>\n",
        "><li>Moreover there are several words which is related to <b>movement of something</b>. For example <u>hit, remov, fall and move</u>.</li>\n",
        "></ul>\n",
        "></div>"
      ]
    },
    {
      "metadata": {
        "_kg_hide-input": true,
        "trusted": true,
        "id": "ogGQtu2apq4m"
      },
      "cell_type": "code",
      "source": [
        "hv.Bars(ngram_func(1)[::-1]).opts(title=\"Unigram Count top-30\", color=\"red\", xlabel=\"Unigrams\", ylabel=\"Count\")\\\n",
        "                .opts(opts.Bars(width=600, height=600,tools=['hover'],show_grid=True,invert_axes=True))"
      ],
      "execution_count": null,
      "outputs": []
    },
    {
      "metadata": {
        "id": "Nil_5tJEpq4n"
      },
      "cell_type": "markdown",
      "source": [
        "### Bigram\n",
        "><div class=\"alert alert-success\" role=\"alert\">\n",
        "><ul>\n",
        "><li>There are so many phrases which is related to <b>hands</b>. For example <u>left hand, right hand, finger left, finger right, middl finger and ring finger</u>.</li>\n",
        "><li>There are also some phrases which is related to other body parts. For example <u>left foot and right reg</u>.</li>\n",
        "></ul>\n",
        "></div>"
      ]
    },
    {
      "metadata": {
        "_kg_hide-input": true,
        "trusted": true,
        "id": "7sWa3If2pq4o"
      },
      "cell_type": "code",
      "source": [
        "hv.Bars(ngram_func(2)[::-1]).opts(title=\"Bigram Count top-30\", color=\"yellow\", xlabel=\"Bigrams\", ylabel=\"Count\")\\\n",
        "                .opts(opts.Bars(width=600, height=600,tools=['hover'],show_grid=True,invert_axes=True))"
      ],
      "execution_count": null,
      "outputs": []
    },
    {
      "metadata": {
        "id": "BzC6_Zgdpq4o"
      },
      "cell_type": "markdown",
      "source": [
        "### Trigram\n",
        "><div class=\"alert alert-success\" role=\"alert\">\n",
        "><ul>\n",
        "><li>Like Unigram and Bigram, there are also many phrases which is related to <b>hands or other body parts</b>, but concreteness seems to increase.</li>\n",
        "><li>For example <u>one hand glove, left arm uniform and wear safeti uniform</u>.</li>\n",
        "></ul>\n",
        "></div>"
      ]
    },
    {
      "metadata": {
        "_kg_hide-input": true,
        "trusted": true,
        "id": "Zt4pMrdDpq4p"
      },
      "cell_type": "code",
      "source": [
        "hv.Bars(ngram_func(3)[::-1]).opts(title=\"Trigram Count top-30\", color=\"blue\", xlabel=\"Trigrams\", ylabel=\"Count\")\\\n",
        "                .opts(opts.Bars(width=600, height=600,tools=['hover'],show_grid=True,invert_axes=True))"
      ],
      "execution_count": null,
      "outputs": []
    },
    {
      "metadata": {
        "id": "wsAZk4CHpq4p"
      },
      "cell_type": "markdown",
      "source": [
        "<a href=\"#top\" class=\"btn btn-success btn-sm active\" role=\"button\" aria-pressed=\"true\" style=\"color:white;\">Table of Contents</a>"
      ]
    },
    {
      "metadata": {
        "id": "QVVXJ_tupq4q"
      },
      "cell_type": "markdown",
      "source": [
        "### Ngram with Gender"
      ]
    },
    {
      "metadata": {
        "trusted": true,
        "_kg_hide-input": true,
        "id": "ygxy6kk6pq4s"
      },
      "cell_type": "code",
      "source": [
        "uni_ma=hv.Bars(ngram_func(1, 'Gender', ['Male'])[0:15][::-1]).opts(title=\"Unigram with Male\", color=\"red\", xlabel=\"Unigrams\", ylabel=\"Count\")\n",
        "uni_fe=hv.Bars(ngram_func(1, 'Gender', ['Female'])[0:15][::-1]).opts(title=\"Unigram with Female\", color=\"red\", xlabel=\"Unigrams\", ylabel=\"Count\")\n",
        "\n",
        "bi_ma=hv.Bars(ngram_func(2, 'Gender', ['Male'])[0:15][::-1]).opts(title=\"Bigram with Male\", color=\"yellow\", xlabel=\"Bigrams\", ylabel=\"Count\")\n",
        "bi_fe=hv.Bars(ngram_func(2, 'Gender', ['Female'])[0:15][::-1]).opts(title=\"Bigram with Female\", color=\"yellow\", xlabel=\"Bigrams\", ylabel=\"Count\")\n",
        "\n",
        "tri_ma=hv.Bars(ngram_func(3, 'Gender', ['Male'])[0:15][::-1]).opts(title=\"Trigram with Male\", color=\"blue\", xlabel=\"Trigrams\", ylabel=\"Count\")\n",
        "tri_fe=hv.Bars(ngram_func(3, 'Gender', ['Female'])[0:15][::-1]).opts(title=\"Trigram with Female\", color=\"blue\", xlabel=\"Trigrams\", ylabel=\"Count\")\n",
        "\n",
        "\n",
        "(uni_ma + uni_fe + bi_ma + bi_fe + tri_ma + tri_fe).opts(opts.Bars(width=400, height=300,tools=['hover'],show_grid=True,invert_axes=True, shared_axes=False)).opts(shared_axes=False).cols(2)"
      ],
      "execution_count": null,
      "outputs": []
    },
    {
      "metadata": {
        "id": "9jucfqQGpq4t"
      },
      "cell_type": "markdown",
      "source": [
        "### Ngram with Accident Level\n",
        ">Classifing accident levels into two part, Low Accident Level(I,II) and High Accident Level(III,IV,V)."
      ]
    },
    {
      "metadata": {
        "_kg_hide-input": true,
        "trusted": true,
        "id": "DWPQKjZopq4t"
      },
      "cell_type": "code",
      "source": [
        "uni_ac_lo=hv.Bars(ngram_func(1, 'Accident Level', ['I','II'])[0:15][::-1]).opts(title=\"Unigram with High Accident Level\", color=\"red\", xlabel=\"Unigrams\", ylabel=\"Count\")\n",
        "uni_ac_hi=hv.Bars(ngram_func(1, 'Accident Level', ['III','IV','V'])[0:15][::-1]).opts(title=\"Unigram with Low Accident Level\", color=\"red\", xlabel=\"Unigrams\", ylabel=\"Count\")\n",
        "\n",
        "bi_ac_lo=hv.Bars(ngram_func(2, 'Accident Level', ['I','II'])[0:15][::-1]).opts(title=\"Bigram with High Accident Level\", color=\"yellow\", xlabel=\"Bigrams\", ylabel=\"Count\")\n",
        "bi_ac_hi=hv.Bars(ngram_func(2, 'Accident Level', ['III','IV','V'])[0:15][::-1]).opts(title=\"Bigram with Low Accident Level\", color=\"yellow\", xlabel=\"Bigrams\", ylabel=\"Count\")\n",
        "\n",
        "tri_ac_lo=hv.Bars(ngram_func(3, 'Accident Level', ['I','II'])[0:15][::-1]).opts(title=\"Trigram with High Accident Level\", color=\"blue\", xlabel=\"Trigrams\", ylabel=\"Count\")\n",
        "tri_ac_hi=hv.Bars(ngram_func(3, 'Accident Level', ['III','IV','V'])[0:15][::-1]).opts(title=\"Trigram with Low Accident Level\", color=\"blue\", xlabel=\"Trigrams\", ylabel=\"Count\")\n",
        "\n",
        "(uni_ac_lo + uni_ac_hi + bi_ac_lo + bi_ac_hi + tri_ac_lo + tri_ac_hi).opts(opts.Bars(width=400, height=300,tools=['hover'],show_grid=True,invert_axes=True, shared_axes=False)).opts(shared_axes=False).cols(2)"
      ],
      "execution_count": null,
      "outputs": []
    },
    {
      "metadata": {
        "id": "8N8_ifoTpq4u"
      },
      "cell_type": "markdown",
      "source": [
        "### Ngram with Industry Sector"
      ]
    },
    {
      "metadata": {
        "_kg_hide-input": true,
        "trusted": true,
        "id": "FdjtKsQ5pq4v"
      },
      "cell_type": "code",
      "source": [
        "uni_mine=hv.Bars(ngram_func(1, 'Industry Sector', ['Mining'])[0:15][::-1]).opts(title=\"Unigram with Mining Sector\", color=\"red\", xlabel=\"Unigrams\", ylabel=\"Count\")\n",
        "uni_metal=hv.Bars(ngram_func(1, 'Industry Sector', ['Metals'])[0:15][::-1]).opts(title=\"Unigram with Metal Sector\", color=\"red\", xlabel=\"Unigrams\", ylabel=\"Count\")\n",
        "uni_others=hv.Bars(ngram_func(1, 'Industry Sector', ['Others'])[0:15][::-1]).opts(title=\"Unigram with Other Sector\", color=\"red\", xlabel=\"Unigrams\", ylabel=\"Count\")\n",
        "\n",
        "bi_mine=hv.Bars(ngram_func(2, 'Industry Sector', ['Mining'])[0:15][::-1]).opts(title=\"Bigram with Mining Sector\", color=\"yellow\", xlabel=\"Bigrams\", ylabel=\"Count\")\n",
        "bi_metal=hv.Bars(ngram_func(2, 'Industry Sector', ['Metals'])[0:15][::-1]).opts(title=\"Bigram with Metal Sector\", color=\"yellow\", xlabel=\"Bigrams\", ylabel=\"Count\")\n",
        "bi_others=hv.Bars(ngram_func(2, 'Industry Sector', ['Others'])[0:15][::-1]).opts(title=\"Bigram with Other Sector\", color=\"yellow\", xlabel=\"Bigrams\", ylabel=\"Count\")\n",
        "\n",
        "tri_mine=hv.Bars(ngram_func(3, 'Industry Sector', ['Mining'])[0:15][::-1]).opts(title=\"Trigram with Mining Sector\", color=\"blue\", xlabel=\"Trigrams\", ylabel=\"Count\")\n",
        "tri_metal=hv.Bars(ngram_func(3, 'Industry Sector', ['Metals'])[0:15][::-1]).opts(title=\"Trigram with Metal Sector\", color=\"blue\", xlabel=\"Trigrams\", ylabel=\"Count\")\n",
        "tri_others=hv.Bars(ngram_func(3, 'Industry Sector', ['Others'])[0:15][::-1]).opts(title=\"Trigram with Other Sector\", color=\"blue\", xlabel=\"Trigrams\", ylabel=\"Count\")\n",
        "\n",
        "(uni_mine + uni_metal + uni_others + bi_mine + bi_metal + bi_others + tri_mine + tri_metal + tri_others)\\\n",
        "            .opts(opts.Bars(width=265, height=300,tools=['hover'],show_grid=True,invert_axes=True, shared_axes=False,fontsize={'title':6.5,'labels':7,'yticks':8.5})).opts(shared_axes=False).cols(3)"
      ],
      "execution_count": null,
      "outputs": []
    },
    {
      "metadata": {
        "id": "wx5IH3lCpq4w"
      },
      "cell_type": "markdown",
      "source": [
        "### Ngram with Employee type"
      ]
    },
    {
      "metadata": {
        "_kg_hide-input": true,
        "trusted": true,
        "id": "uePKVUYOpq4w"
      },
      "cell_type": "code",
      "source": [
        "uni_emp=hv.Bars(ngram_func(1, 'Employee type', ['Employee'])[0:15][::-1]).opts(title=\"Unigram with Employee\", color=\"red\", xlabel=\"Unigrams\", ylabel=\"Count\")\n",
        "uni_third=hv.Bars(ngram_func(1, 'Employee type', ['Third Party','Third Party (Remote)'])[0:15][::-1]).opts(title=\"Unigram with Third Party\", color=\"red\", xlabel=\"Unigrams\", ylabel=\"Count\")\n",
        "\n",
        "bi_emp=hv.Bars(ngram_func(2, 'Employee type', ['Employee'])[0:15][::-1]).opts(title=\"Bigram with Employee\", color=\"yellow\", xlabel=\"Bigrams\", ylabel=\"Count\")\n",
        "bi_third=hv.Bars(ngram_func(2, 'Employee type', ['Third Party','Third Party (Remote)'])[0:15][::-1]).opts(title=\"Bigram with Third Party\", color=\"yellow\", xlabel=\"Bigrams\", ylabel=\"Count\")\n",
        "\n",
        "tri_emp=hv.Bars(ngram_func(3, 'Employee type', ['Employee'])[0:15][::-1]).opts(title=\"Trigram with Employee\", color=\"blue\", xlabel=\"Trigrams\", ylabel=\"Count\")\n",
        "tri_third=hv.Bars(ngram_func(3, 'Employee type', ['Third Party','Third Party (Remote)'])[0:15][::-1]).opts(title=\"Trigram with Third Party\", color=\"blue\", xlabel=\"Trigrams\", ylabel=\"Count\")\n",
        "\n",
        "(uni_emp + uni_third+ bi_emp + bi_third + tri_emp + tri_third).opts(opts.Bars(width=400, height=300,tools=['hover'],show_grid=True,invert_axes=True, shared_axes=False)).opts(shared_axes=False).cols(2)"
      ],
      "execution_count": null,
      "outputs": []
    },
    {
      "metadata": {
        "id": "aDJGrBkhpq4x"
      },
      "cell_type": "markdown",
      "source": [
        "### WordCloud\n",
        "><div class=\"alert alert-success\" role=\"alert\">\n",
        "><ul>\n",
        "><li>As same as Ngram analysis above, there are many hand-related and movement-related words.</li>\n",
        "><li><b>Hand-related</b> : left, right, hand, finger and glove</li>\n",
        "><li><b>Movement-related</b> : fall, hit, carri, lift and slip</li>\n",
        "></ul>\n",
        "></div>"
      ]
    },
    {
      "metadata": {
        "trusted": true,
        "_kg_hide-input": true,
        "id": "cZe-7B0kpq4y"
      },
      "cell_type": "code",
      "source": [
        "wordcloud = WordCloud(width = 1500, height = 800, random_state=0, background_color='black', colormap='rainbow', \\\n",
        "                      min_font_size=5, max_words=300, collocations=False, min_word_length=3, stopwords = STOPWORDS).generate(\" \".join(df['Description_processed'].values))\n",
        "plt.figure(figsize=(15,10))\n",
        "plt.imshow(wordcloud)\n",
        "plt.axis('off')\n",
        "plt.show()"
      ],
      "execution_count": null,
      "outputs": []
    },
    {
      "metadata": {
        "id": "E0vScnrKpq4z"
      },
      "cell_type": "markdown",
      "source": [
        "### Sentiment Trend"
      ]
    },
    {
      "metadata": {
        "_kg_hide-input": true,
        "trusted": true,
        "id": "ODIRm1JXpq4z"
      },
      "cell_type": "code",
      "source": [
        "v1 = hv.Curve(df.groupby('Month')[\"Description_sentiment_score\"].mean())\\\n",
        "    .opts(opts.Curve(xlabel=\"Month\", ylabel=\"Sentiment Score\", width=800, height=300,tools=['hover'],show_grid=True,title='Month Average Sentiment Score'))\n",
        "v2 = hv.Curve(df.groupby('Weekday')[\"Description_sentiment_score\"].mean().reindex(index=['Monday', 'Tuesday', 'Wednesday', 'Thursday', 'Friday', 'Saturday', 'Sunday']))\\\n",
        "    .opts(opts.Curve(xlabel=\"Weekday\", ylabel=\"Sentiment Score\", width=800, height=300,tools=['hover'],show_grid=True,title='Weekday Average Sentiment Score'))\n",
        "(v1 + v2).cols(1)"
      ],
      "execution_count": null,
      "outputs": []
    },
    {
      "metadata": {
        "id": "kcvEEcrfpq40"
      },
      "cell_type": "markdown",
      "source": [
        "<a href=\"#top\" class=\"btn btn-success btn-sm active\" role=\"button\" aria-pressed=\"true\" style=\"color:white;\">Table of Contents</a>"
      ]
    },
    {
      "metadata": {
        "id": "32uHhzE-pq40"
      },
      "cell_type": "markdown",
      "source": [
        "# 6. Modeling\n",
        "><div class=\"alert alert-success\" role=\"alert\">\n",
        ">Objectives:\n",
        "><ul>\n",
        "><li>Presumption of cause of accidents</li>\n",
        "><li>Surveying a factor that increases severity of accidents</li>\n",
        "></ul>\n",
        ">Building the model which classify the severity of accidents, we can understand the factor related to the causality of accidents.<br/>\n",
        ">So, two models were built based on those cases below.\n",
        "><ul>\n",
        "><li><a href='#ac'>Case1 : Accident Level</a></li>\n",
        "><li><a href='#pac'>Case2 : Potential Accident Level</a></li>\n",
        "></ul>\n",
        "></div>"
      ]
    },
    {
      "metadata": {
        "id": "fmqwq38zpq41"
      },
      "cell_type": "markdown",
      "source": [
        "## Feature Engineering"
      ]
    },
    {
      "metadata": {
        "id": "3s0nfjshpq42"
      },
      "cell_type": "markdown",
      "source": [
        "### TFIDF Feature"
      ]
    },
    {
      "metadata": {
        "trusted": true,
        "_kg_hide-output": true,
        "id": "FVAuc3Tvpq43"
      },
      "cell_type": "code",
      "source": [
        "feature_df = pd.DataFrame()\n",
        "for i in [1,2,3]:\n",
        "    vec_tfidf = TfidfVectorizer(max_features=10, norm='l2', stop_words='english', lowercase=True, use_idf=True, ngram_range=(i,i))\n",
        "    X = vec_tfidf.fit_transform(df['Description_processed']).toarray()\n",
        "    tfs = pd.DataFrame(X, columns=[\"TFIDF_\" + n for n in vec_tfidf.get_feature_names()])\n",
        "    feature_df = pd.concat([feature_df, tfs], axis=1)\n",
        "feature_df = pd.concat([df, feature_df], axis=1)\n",
        "feature_df.head(3)"
      ],
      "execution_count": null,
      "outputs": []
    },
    {
      "metadata": {
        "id": "Ag6Ieafkpq43"
      },
      "cell_type": "markdown",
      "source": [
        "### Label Encoding"
      ]
    },
    {
      "metadata": {
        "trusted": true,
        "_kg_hide-output": true,
        "id": "5GG_7U0epq45"
      },
      "cell_type": "code",
      "source": [
        "feature_df['Country'] = LabelEncoder().fit_transform(feature_df['Country']).astype(np.int8)\n",
        "feature_df['Local'] = LabelEncoder().fit_transform(feature_df['Local']).astype(np.int8)\n",
        "feature_df['Industry Sector'] = LabelEncoder().fit_transform(feature_df['Industry Sector']).astype(np.int8)\n",
        "feature_df['Accident Level'] = LabelEncoder().fit_transform(feature_df['Accident Level']).astype(np.int8)\n",
        "feature_df['Potential Accident Level'] = LabelEncoder().fit_transform(feature_df['Potential Accident Level']).astype(np.int8)\n",
        "feature_df['Gender'] = LabelEncoder().fit_transform(feature_df['Gender']).astype(np.int8)\n",
        "feature_df['Employee type'] = LabelEncoder().fit_transform(feature_df['Employee type']).astype(np.int8)\n",
        "feature_df['Critical Risk'] = LabelEncoder().fit_transform(feature_df['Critical Risk']).astype(np.int8)\n",
        "feature_df['Weekday'] = LabelEncoder().fit_transform(feature_df['Weekday']).astype(np.int8)\n",
        "feature_df['Season'] = LabelEncoder().fit_transform(feature_df['Season']).astype(np.int8)\n",
        "feature_df.drop(['Date','Description', 'Description_processed'],axis=1,inplace=True)\n",
        "feature_df.head(3)"
      ],
      "execution_count": null,
      "outputs": []
    },
    {
      "metadata": {
        "id": "pSP6Oo4Rpq47"
      },
      "cell_type": "markdown",
      "source": [
        "<a href=\"#top\" class=\"btn btn-success btn-sm active\" role=\"button\" aria-pressed=\"true\" style=\"color:white;\">Table of Contents</a>"
      ]
    },
    {
      "metadata": {
        "id": "1brAcLE2pq48"
      },
      "cell_type": "markdown",
      "source": [
        "## Case1 : Accident Level<a id='ac'></a>\n",
        "><div class=\"alert alert-success\" role=\"alert\">\n",
        "><ul>\n",
        "><li>There are many time-series features with high importance such as <b>Day, Weekday and Month</b>, and it is thought that <u>the occurrence of accidents and the accident level will change  easily depending on the time</u>.</li>\n",
        "><li><u>Sentiment score is much related with accident level.</u> Sentiment score is calculated based on specific words in text, so it is thought that specific words may increase severness of accident level.</li>\n",
        "><li>Since there are many TFIDF features with high importance related to a part of the body, and in particular many features are related to the hands such as <b>hand, left and right</b>, so it is considered that <u>mistakes in manual work are related to the occurrence and severity of accidents</u>.</li>\n",
        "></ul>\n",
        "></div>"
      ]
    },
    {
      "metadata": {
        "trusted": true,
        "id": "4pDzRZiupq4-"
      },
      "cell_type": "code",
      "source": [
        "y_series = feature_df['Accident Level']\n",
        "x_df = feature_df.drop(['Accident Level','Potential Accident Level'], axis=1)\n",
        "X_train, X_valid, Y_train, Y_valid = train_test_split(x_df, y_series, test_size=0.2, random_state=0, stratify=y_series)\n",
        "\n",
        "lgb_train = lgb.Dataset(X_train, Y_train)\n",
        "lgb_valid = lgb.Dataset(X_valid, Y_valid, reference=lgb_train)"
      ],
      "execution_count": null,
      "outputs": []
    },
    {
      "metadata": {
        "trusted": true,
        "_kg_hide-output": true,
        "id": "-y6pYTHfpq4_"
      },
      "cell_type": "code",
      "source": [
        "params = {\n",
        "    'task' : 'train',\n",
        "    'boosting' : 'gbdt',\n",
        "    'objective': 'multiclass',\n",
        "    'num_class': 5,\n",
        "    'metric': 'multi_logloss',\n",
        "    'num_leaves': 200,\n",
        "    'feature_fraction': 1.0,\n",
        "    'bagging_fraction': 1.0,\n",
        "    'bagging_freq': 0,\n",
        "    'min_child_samples': 5\n",
        "}\n",
        "gbm_ac = lgb.train(params,\n",
        "            lgb_train,\n",
        "            num_boost_round=100,\n",
        "            valid_sets=lgb_valid,\n",
        "            early_stopping_rounds=100)"
      ],
      "execution_count": null,
      "outputs": []
    },
    {
      "metadata": {
        "trusted": true,
        "_kg_hide-input": true,
        "id": "laIw3VDvpq5A"
      },
      "cell_type": "code",
      "source": [
        "ac_label = ['Accident Level : I','Accident Level : II','Accident Level : III','Accident Level : IV','Accident Level : V']\n",
        "explainer = shap.TreeExplainer(model=gbm_ac)\n",
        "shap_values_ac = explainer.shap_values(X=X_train)\n",
        "shap.summary_plot(shap_values=shap_values_ac, features=X_train, feature_names=X_train.columns, plot_type=\"bar\", max_display=30, class_names=ac_label)"
      ],
      "execution_count": null,
      "outputs": []
    },
    {
      "metadata": {
        "_kg_hide-input": true,
        "trusted": true,
        "id": "kNotza9tpq5A"
      },
      "cell_type": "code",
      "source": [
        "t = lgb.plot_tree(gbm_ac, figsize=(20, 20), precision=1, tree_index=0, show_info=['split_gain'])\n",
        "plt.title('Visulalization of Tree in Accident Level')\n",
        "plt.show()"
      ],
      "execution_count": null,
      "outputs": []
    },
    {
      "metadata": {
        "id": "2SPbOMlcpq5B"
      },
      "cell_type": "markdown",
      "source": [
        "<a href=\"#top\" class=\"btn btn-success btn-sm active\" role=\"button\" aria-pressed=\"true\" style=\"color:white;\">Table of Contents</a>"
      ]
    },
    {
      "metadata": {
        "id": "q9YcxOLxpq5C"
      },
      "cell_type": "markdown",
      "source": [
        "## Case2 : Potential Accident Level<a id='pac'></a>\n",
        "><div class=\"alert alert-success\" role=\"alert\">\n",
        "><ul>\n",
        "><li>Similar to the model of Accident Level above, the features of time series and TFIDF features of hands are highly important, but the TFIDF features seem to be slightly more important.</li>\n",
        "></ul>\n",
        "></div>"
      ]
    },
    {
      "metadata": {
        "trusted": true,
        "id": "o4-b8uADpq5C"
      },
      "cell_type": "code",
      "source": [
        "_feature_df = feature_df[~feature_df['Potential Accident Level'].isin([5])]\n",
        "y_series = _feature_df['Potential Accident Level']\n",
        "x_df = _feature_df.drop(['Accident Level','Potential Accident Level'], axis=1)\n",
        "X_train, X_valid, Y_train, Y_valid = train_test_split(x_df, y_series, test_size=0.2, random_state=0, stratify=y_series)\n",
        "\n",
        "lgb_train = lgb.Dataset(X_train, Y_train)\n",
        "lgb_valid = lgb.Dataset(X_valid, Y_valid, reference=lgb_train)"
      ],
      "execution_count": null,
      "outputs": []
    },
    {
      "metadata": {
        "_kg_hide-output": true,
        "trusted": true,
        "id": "sdzpHJk1pq5D"
      },
      "cell_type": "code",
      "source": [
        "params = {\n",
        "    'task' : 'train',\n",
        "    'boosting' : 'gbdt',\n",
        "    'objective': 'multiclass',\n",
        "    'num_class': 5,\n",
        "    'metric': 'multi_logloss',\n",
        "    'num_leaves': 200,\n",
        "    'feature_fraction': 1.0,\n",
        "    'bagging_fraction': 1.0,\n",
        "    'bagging_freq': 0,\n",
        "    'min_child_samples': 5\n",
        "}\n",
        "gbm_pac = lgb.train(params,\n",
        "            lgb_train,\n",
        "            num_boost_round=100,\n",
        "            valid_sets=lgb_valid,\n",
        "            early_stopping_rounds=100)"
      ],
      "execution_count": null,
      "outputs": []
    },
    {
      "metadata": {
        "_kg_hide-input": true,
        "trusted": true,
        "id": "sNLVNQRipq5E"
      },
      "cell_type": "code",
      "source": [
        "pac_label = ['Potential Accident Level : I','Potential Accident Level : II','Potential Accident Level : III','Potential Accident Level : IV','Potential Accident Level : V']\n",
        "explainer = shap.TreeExplainer(model=gbm_pac)\n",
        "shap_values_pac = explainer.shap_values(X=X_train)\n",
        "shap.summary_plot(shap_values=shap_values_pac, features=X_train, feature_names=X_train.columns, plot_type=\"bar\", max_display=30, class_names=pac_label)"
      ],
      "execution_count": null,
      "outputs": []
    },
    {
      "metadata": {
        "_kg_hide-input": true,
        "trusted": true,
        "id": "brcZnIaspq5E"
      },
      "cell_type": "code",
      "source": [
        "t = lgb.plot_tree(gbm_pac, figsize=(20, 20), precision=1, tree_index=0, show_info=['split_gain'])\n",
        "plt.title('Visulalization of Tree in Potential Accident Level')\n",
        "plt.show()"
      ],
      "execution_count": null,
      "outputs": []
    },
    {
      "metadata": {
        "id": "e3itHylMpq5F"
      },
      "cell_type": "markdown",
      "source": [
        "<a href=\"#top\" class=\"btn btn-success btn-sm active\" role=\"button\" aria-pressed=\"true\" style=\"color:white;\">Table of Contents</a>"
      ]
    },
    {
      "metadata": {
        "id": "nN9RBvl6pq5F"
      },
      "cell_type": "markdown",
      "source": [
        "# 7. Conclusion\n",
        "><div class=\"alert alert-success\" role=\"alert\">\n",
        "><ul>\n",
        "><li>In this project, we discovered that the main causes of accidents are <b>mistakes in hand-operation and time-related factor</b>.</li>\n",
        "><li>To reduce the occurrences of accidents, <u>more stringent safety standards in hand-operation will be needed in period when many accidents occur</u>.</li>\n",
        "></ul>\n",
        "><ul>\n",
        "><li>I realized that the detail information of accidents like 'Description' are so useful to analyze the cause.</li>\n",
        "><li>With more detailed information such as <b>machining data(ex. CNC, Current, Voltage) in plants, weather information, employee's personal data(ex. age, experience in the industry sector, work performance\n",
        ")</b>, we can clarify the cause of accidents more correctly.</li>\n",
        "></ul>\n",
        "></div>"
      ]
    },
    {
      "metadata": {
        "id": "PX8q5ObQpq5G"
      },
      "cell_type": "markdown",
      "source": [
        "## Task Submission\n",
        ">Through the EDA & Modeling above, we can answer [several tasks](https://www.kaggle.com/ihmstefanini/industrial-safety-and-health-analytics-database/tasks)."
      ]
    },
    {
      "metadata": {
        "id": "RHgauBXOpq5G"
      },
      "cell_type": "markdown",
      "source": [
        "### Gender mostly involved in accidents\n",
        "><div class=\"alert alert-info\" role=\"alert\">\n",
        ">In <a href='https://www.kaggle.com/ihmstefanini/industrial-safety-and-health-analytics-database/tasks?taskId=240'>this task</a>, the question is : <b>Which gender is mostly involved in accidents at these plants?</b><br/>\n",
        ">Answer : <b>Male</b><br/><br/>\n",
        "><ul>\n",
        "><li>Though the staffs of the manufacturing plants are mostly males, <u>EDA shows that <b>males</b> are likely involved in accidents(95%)</u>.</li>\n",
        "><li>And males are tend to get involved in accidents with higher risk levels than females.</li>\n",
        "></ul>\n",
        "></div>"
      ]
    },
    {
      "metadata": {
        "_kg_hide-input": true,
        "trusted": true,
        "id": "mUUWXaVppq5H"
      },
      "cell_type": "code",
      "source": [
        "f1 = lambda x : np.round(x/len(df) * 100)\n",
        "gender_cnt = df.groupby(['Gender'])['Accident Level'].count().apply(f1)\n",
        "g = hv.Bars(pd.melt(gender_cnt.reset_index(), ['Gender']), ['Gender'], 'value').opts(opts.Bars(title=\"Gender Count\", color='green'))\n",
        "\n",
        "f2 = lambda x : np.round(x/x.sum() * 100)\n",
        "ac_gen = df.groupby(['Gender','Accident Level'])['Accident Level'].count().unstack().apply(f2, axis=1)\n",
        "ac = hv.Bars(pd.melt(ac_gen.reset_index(), ['Gender']), ['Gender','Accident Level'], 'value').opts(opts.Bars(title=\"Accident Level by Gender Count\"))\n",
        "\n",
        "(g + ac).opts(opts.Bars(width=400, height=300,tools=['hover'],show_grid=True,xrotation=0, ylabel=\"Percentage\", yformatter='%d%%', shared_axes=True))"
      ],
      "execution_count": null,
      "outputs": []
    },
    {
      "metadata": {
        "id": "Ophafh9Gpq5H"
      },
      "cell_type": "markdown",
      "source": [
        "### Third Parties Or Employees?\n",
        "><div class=\"alert alert-info\" role=\"alert\">\n",
        ">In <a href='https://www.kaggle.com/ihmstefanini/industrial-safety-and-health-analytics-database/tasks?taskId=241'>this task</a>, the question is : <b>Are third parties usually involved in these accidents or it is mainly the employees?</b><br/>\n",
        ">Answer : <b>Yes, they are. Third parties more likely get involved in accidents.</b><br/><br/>\n",
        "><ul>\n",
        "><li>Comparing employee's accidents count with third parties' accidents count, <u>EDA shows that <b>third parties</b> are likely involved in accidents(58%)</u>.</li>\n",
        "><li>And third parties are slightly tend to get involved in accidents with higer risk levels than employee.</li>\n",
        "></ul>\n",
        "></div>"
      ]
    },
    {
      "metadata": {
        "_kg_hide-input": true,
        "trusted": true,
        "id": "FpQutf7dpq5I"
      },
      "cell_type": "code",
      "source": [
        "df_em_tmp = df.copy()\n",
        "df_em_tmp.loc[df_em_tmp['Employee type'].isin(['Third Party','Third Party (Remote)']), 'Employee type'] = 'Third Party(+Remote)'\n",
        "f1 = lambda x : np.round(x/len(df_em_tmp) * 100)\n",
        "emp_type_cnt = df_em_tmp.groupby(['Employee type'])['Accident Level'].count().apply(f1)\n",
        "g = hv.Bars(pd.melt(emp_type_cnt.reset_index(), ['Employee type']), ['Employee type'], 'value').opts(opts.Bars(title=\"Employee type Count\", color='green'))\n",
        "\n",
        "\n",
        "f2 = lambda x : np.round(x/x.sum() * 100)\n",
        "ac_em = df_em_tmp.groupby(['Employee type','Accident Level'])['Accident Level'].count().unstack().apply(f2, axis=1)\n",
        "ac = hv.Bars(pd.melt(ac_em.reset_index(), ['Employee type']), ['Employee type','Accident Level'], 'value').opts(opts.Bars(title=\"Accident Level by Employee type Count\"))\n",
        "(g + ac).opts(opts.Bars(width=400, height=300,tools=['hover'],show_grid=True,xrotation=0, ylabel=\"Percentage\", yformatter='%d%%',fontsize={'title':9}))"
      ],
      "execution_count": null,
      "outputs": []
    },
    {
      "metadata": {
        "id": "TFbAZhLtpq5I"
      },
      "cell_type": "markdown",
      "source": [
        "<a href=\"#top\" class=\"btn btn-success btn-sm active\" role=\"button\" aria-pressed=\"true\" style=\"color:white;\">Table of Contents</a>"
      ]
    },
    {
      "metadata": {
        "id": "wHHJugitpq5J"
      },
      "cell_type": "markdown",
      "source": [
        "### Main cause of accidents\n",
        "><div class=\"alert alert-info\" role=\"alert\">\n",
        ">In <a href='https://www.kaggle.com/ihmstefanini/industrial-safety-and-health-analytics-database/tasks?taskId=242'>this task</a>, the question is : <b>What usually causes these accidents?</b><br/>\n",
        ">Answer : <b>Mistakes in hands operations.</b><br/><br/>\n",
        "><ul>\n",
        "><li>According to Ngram analysis, we can say that <u>operations related to hands are mainly the causes of accidents</u>.</li>\n",
        "><li>According to the modeling to classify accident levels shows that in addition to hands-operation, time-related features also affect to the occurrence of accidents.</li>\n",
        "></ul>\n",
        "></div>"
      ]
    },
    {
      "metadata": {
        "_kg_hide-input": true,
        "trusted": true,
        "id": "NsJK08cGpq5J"
      },
      "cell_type": "code",
      "source": [
        "uni=hv.Bars(ngram_func(1)[0:15][::-1]).opts(title=\"Unigram Count\", color=\"red\", xlabel=\"Unigrams\", ylabel=\"Count\")\n",
        "bi=hv.Bars(ngram_func(2)[0:15][::-1]).opts(title=\"Bigram Count\", color=\"yellow\", xlabel=\"Bigrams\", ylabel=\"Count\")\n",
        "tri=hv.Bars(ngram_func(3)[0:15][::-1]).opts(title=\"Trigram Count\", color=\"blue\", xlabel=\"Trigrams\", ylabel=\"Count\")\n",
        "(uni + bi + tri).opts(opts.Bars(width=265, height=300,tools=['hover'],show_grid=True,invert_axes=True, shared_axes=False)).opts(shared_axes=False)"
      ],
      "execution_count": null,
      "outputs": []
    },
    {
      "metadata": {
        "_kg_hide-input": true,
        "trusted": true,
        "id": "PGjNLc3Ppq5K"
      },
      "cell_type": "code",
      "source": [
        "shap.summary_plot(shap_values=shap_values_ac, features=X_train, feature_names=X_train.columns, plot_type=\"bar\", max_display=15, class_names=ac_label)\n",
        "shap.summary_plot(shap_values=shap_values_pac, features=X_train, feature_names=X_train.columns, plot_type=\"bar\", max_display=15, class_names=pac_label)"
      ],
      "execution_count": null,
      "outputs": []
    },
    {
      "metadata": {
        "id": "oc2eyD07pq5M"
      },
      "cell_type": "markdown",
      "source": [
        "<a href=\"#top\" class=\"btn btn-success btn-sm active\" role=\"button\" aria-pressed=\"true\" style=\"color:white;\">Table of Contents</a>"
      ]
    },
    {
      "metadata": {
        "trusted": true,
        "id": "F8NoHQIXpq5N"
      },
      "cell_type": "markdown",
      "source": [
        "# 8. References\n",
        ">* **Good EDA Notebook**  \n",
        ">https://www.kaggle.com/schorsi/industrial-safety-totw  \n",
        ">https://www.kaggle.com/schorsi/industrial-safety-totw-part-2\n",
        ">* **Pandas value_counts() tips**  \n",
        ">https://pandas.pydata.org/pandas-docs/stable/reference/api/pandas.Series.value_counts.html\n",
        ">* **Holoviews plot tips**  \n",
        ">http://holoviews.org/user_guide/Customizing_Plots.html\n",
        ">* **NLP Pre-processing tutorial**  \n",
        ">http://haya14busa.com/python-nltk-natural-language-processing/\n",
        ">* **WORDCLOUD example**  \n",
        ">https://towardsdatascience.com/simple-wordcloud-in-python-2ae54a9f58e5  \n",
        ">* **LightGBM Parameters**  \n",
        ">https://lightgbm.readthedocs.io/en/latest/Parameters.html\n",
        ">* **LightGBM Tree Visulizing**  \n",
        ">https://lightgbm.readthedocs.io/en/latest/pythonapi/lightgbm.plot_tree.html"
      ]
    },
    {
      "metadata": {
        "id": "pyZfzUvDpq5O"
      },
      "cell_type": "markdown",
      "source": [
        "<a href=\"#top\" class=\"btn btn-success btn-sm active\" role=\"button\" aria-pressed=\"true\" style=\"color:white;\">Table of Contents</a>"
      ]
    }
  ],
  "metadata": {
    "kernelspec": {
      "language": "python",
      "display_name": "Python 3",
      "name": "python3"
    },
    "language_info": {
      "pygments_lexer": "ipython3",
      "nbconvert_exporter": "python",
      "version": "3.6.4",
      "file_extension": ".py",
      "codemirror_mode": {
        "name": "ipython",
        "version": 3
      },
      "name": "python",
      "mimetype": "text/x-python"
    },
    "colab": {
      "name": "Industrial Accident Causal Analysis ",
      "provenance": [],
      "include_colab_link": true
    }
  },
  "nbformat": 4,
  "nbformat_minor": 0
}