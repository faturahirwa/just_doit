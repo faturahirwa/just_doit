{
  "metadata": {
    "kernelspec": {
      "language": "python",
      "display_name": "Python 3",
      "name": "python3"
    },
    "language_info": {
      "name": "python",
      "version": "3.7.12",
      "mimetype": "text/x-python",
      "codemirror_mode": {
        "name": "ipython",
        "version": 3
      },
      "pygments_lexer": "ipython3",
      "nbconvert_exporter": "python",
      "file_extension": ".py"
    },
    "kaggle": {
      "accelerator": "none",
      "dataSources": [
        {
          "sourceId": 9223,
          "sourceType": "datasetVersion",
          "datasetId": 6294
        }
      ],
      "dockerImageVersionId": 30301,
      "isInternetEnabled": false,
      "language": "python",
      "sourceType": "notebook",
      "isGpuEnabled": false
    },
    "colab": {
      "name": " ML_Regression_Quality Prediction in a Mining Proc",
      "provenance": [],
      "include_colab_link": true
    }
  },
  "nbformat_minor": 0,
  "nbformat": 4,
  "cells": [
    {
      "cell_type": "markdown",
      "metadata": {
        "id": "view-in-github",
        "colab_type": "text"
      },
      "source": [
        "<a href=\"https://colab.research.google.com/github/unmatched78/just_doit/blob/main/ML_Regression_Quality_Prediction_in_a_Mining_Proc.ipynb\" target=\"_parent\"><img src=\"https://colab.research.google.com/assets/colab-badge.svg\" alt=\"Open In Colab\"/></a>"
      ]
    },
    {
      "source": [
        "# IMPORTANT: RUN THIS CELL IN ORDER TO IMPORT YOUR KAGGLE DATA SOURCES,\n",
        "# THEN FEEL FREE TO DELETE THIS CELL.\n",
        "# NOTE: THIS NOTEBOOK ENVIRONMENT DIFFERS FROM KAGGLE'S PYTHON\n",
        "# ENVIRONMENT SO THERE MAY BE MISSING LIBRARIES USED BY YOUR\n",
        "# NOTEBOOK.\n",
        "import kagglehub\n",
        "edumagalhaes_quality_prediction_in_a_mining_process_path = kagglehub.dataset_download('edumagalhaes/quality-prediction-in-a-mining-process')\n",
        "\n",
        "print('Data source import complete.')\n"
      ],
      "metadata": {
        "id": "STAGexk2pXQg"
      },
      "cell_type": "code",
      "outputs": [],
      "execution_count": null
    },
    {
      "cell_type": "code",
      "source": [
        "# done in kaggle\n",
        "# This Python 3 environment comes with many helpful analytics libraries installed\n",
        "# It is defined by the kaggle/python Docker image: https://github.com/kaggle/docker-python\n",
        "# For example, here's several helpful packages to load\n",
        "\n",
        "import numpy as np # linear algebra\n",
        "import pandas as pd # data processing, CSV file I/O (e.g. pd.read_csv)\n",
        "\n",
        "# Input data files are available in the read-only \"../input/\" directory\n",
        "# For example, running this (by clicking run or pressing Shift+Enter) will list all files under the input directory\n",
        "\n",
        "import os\n",
        "for dirname, _, filenames in os.walk('/kaggle/input'):\n",
        "    for filename in filenames:\n",
        "        print(os.path.join(dirname, filename))\n",
        "\n",
        "# You can write up to 20GB to the current directory (/kaggle/working/) that gets preserved as output when you create a version using \"Save & Run All\"\n",
        "# You can also write temporary files to /kaggle/temp/, but they won't be saved outside of the current session"
      ],
      "metadata": {
        "_uuid": "8f2839f25d086af736a60e9eeb907d3b93b6e0e5",
        "_cell_guid": "b1076dfc-b9ad-4769-8c92-a6c4dae69d19",
        "execution": {
          "iopub.status.busy": "2024-04-14T16:01:32.508991Z",
          "iopub.execute_input": "2024-04-14T16:01:32.509413Z",
          "iopub.status.idle": "2024-04-14T16:01:32.519978Z",
          "shell.execute_reply.started": "2024-04-14T16:01:32.509367Z",
          "shell.execute_reply": "2024-04-14T16:01:32.518897Z"
        },
        "trusted": true,
        "id": "dHKSGjJdpXQm"
      },
      "execution_count": null,
      "outputs": []
    },
    {
      "cell_type": "markdown",
      "source": [
        "# ML_Regression_Quality Prediction in a Mining Process\n",
        "\n",
        "![](https://d12oja0ew7x0i8.cloudfront.net/image-handler/ts/20191016081931/ri/950/src/images/Article_Images/ImageForArticle_18547(1).jpg)\n",
        "\n",
        "##### DataSource: <https://www.kaggle.com/datasets/edumagalhaes/quality-prediction-in-a-mining-process>\n",
        "\n",
        "\n",
        "### Project Objective: To predict % silica in product after flotation process. The expected outcome for this project are as follows:\n",
        "1. Improve reliability of process\n",
        "2. Reduce waste water from process leading to environment friendly\n",
        "3. Reduce cost of laboratory testing as soft sensor\n",
        "\n",
        "### Major Conclusion:\n",
        "1. Selected the random forest model as the primary model for deployment\n",
        "2. the performance of selected model as belows:\n",
        "    - Root Mean Square Error: 0.185\n",
        "    - R2: 0.853\n",
        "    "
      ],
      "metadata": {
        "id": "Dc7SjrmmpXQn"
      }
    },
    {
      "cell_type": "code",
      "source": [
        "# Import essential library\n",
        "\n",
        "import numpy as np\n",
        "import matplotlib.pyplot as plt\n",
        "import pandas as pd\n",
        "import seaborn as sn\n",
        "\n",
        "from sklearn.linear_model import LinearRegression\n",
        "from sklearn.neural_network import MLPRegressor\n",
        "\n",
        "from sklearn.model_selection import train_test_split"
      ],
      "metadata": {
        "execution": {
          "iopub.status.busy": "2024-04-14T16:01:32.522222Z",
          "iopub.execute_input": "2024-04-14T16:01:32.523179Z",
          "iopub.status.idle": "2024-04-14T16:01:33.384906Z",
          "shell.execute_reply.started": "2024-04-14T16:01:32.523133Z",
          "shell.execute_reply": "2024-04-14T16:01:33.383706Z"
        },
        "trusted": true,
        "id": "HcMxIbolpXQp"
      },
      "execution_count": null,
      "outputs": []
    },
    {
      "cell_type": "markdown",
      "source": [
        "## Load & Preview Data\n",
        "\n",
        "### Finding & Action\n",
        "\n",
        "- Drop date column\n",
        "- Transform , to . and object type from str to float\n",
        "- Specific Label as % silica concentration\n",
        "- Not found missing value\n"
      ],
      "metadata": {
        "id": "SzX6HE7TpXQq"
      }
    },
    {
      "cell_type": "code",
      "source": [
        "# load data to Dataframe\n",
        "\n",
        "data=pd.read_csv('/kaggle/input/quality-prediction-in-a-mining-process/MiningProcess_Flotation_Plant_Database.csv')\n",
        "\n",
        "data.head()"
      ],
      "metadata": {
        "execution": {
          "iopub.status.busy": "2024-04-14T16:01:33.386442Z",
          "iopub.execute_input": "2024-04-14T16:01:33.386797Z",
          "iopub.status.idle": "2024-04-14T16:01:43.479352Z",
          "shell.execute_reply.started": "2024-04-14T16:01:33.386766Z",
          "shell.execute_reply": "2024-04-14T16:01:43.478131Z"
        },
        "trusted": true,
        "id": "9BWFK20wpXQq"
      },
      "execution_count": null,
      "outputs": []
    },
    {
      "cell_type": "code",
      "source": [
        "data.info()"
      ],
      "metadata": {
        "execution": {
          "iopub.status.busy": "2024-04-14T16:01:43.481921Z",
          "iopub.execute_input": "2024-04-14T16:01:43.482267Z",
          "iopub.status.idle": "2024-04-14T16:01:44.400953Z",
          "shell.execute_reply.started": "2024-04-14T16:01:43.482236Z",
          "shell.execute_reply": "2024-04-14T16:01:44.399513Z"
        },
        "trusted": true,
        "id": "lnB-nAbnpXQr"
      },
      "execution_count": null,
      "outputs": []
    },
    {
      "cell_type": "code",
      "source": [
        "# Drop date column\n",
        "data_cl=data.drop('date',axis=1)\n",
        "data_cl.head(5)"
      ],
      "metadata": {
        "execution": {
          "iopub.status.busy": "2024-04-14T16:01:44.402755Z",
          "iopub.execute_input": "2024-04-14T16:01:44.403227Z",
          "iopub.status.idle": "2024-04-14T16:01:44.662308Z",
          "shell.execute_reply.started": "2024-04-14T16:01:44.403181Z",
          "shell.execute_reply": "2024-04-14T16:01:44.661005Z"
        },
        "trusted": true,
        "id": "c4hQ1me2pXQr"
      },
      "execution_count": null,
      "outputs": []
    },
    {
      "cell_type": "code",
      "source": [
        "# Transform , to . and object type from str to float\n",
        "\n",
        "for dt in data_cl.columns:\n",
        "    data_cl[dt]=data_cl[dt].str.replace(',','.').astype(float)"
      ],
      "metadata": {
        "execution": {
          "iopub.status.busy": "2024-04-14T16:01:44.663681Z",
          "iopub.execute_input": "2024-04-14T16:01:44.664504Z",
          "iopub.status.idle": "2024-04-14T16:01:58.92182Z",
          "shell.execute_reply.started": "2024-04-14T16:01:44.664455Z",
          "shell.execute_reply": "2024-04-14T16:01:58.920486Z"
        },
        "trusted": true,
        "id": "ayJDAt9rpXQs"
      },
      "execution_count": null,
      "outputs": []
    },
    {
      "cell_type": "code",
      "source": [
        "data_cl.head(5)"
      ],
      "metadata": {
        "execution": {
          "iopub.status.busy": "2024-04-14T16:01:58.923239Z",
          "iopub.execute_input": "2024-04-14T16:01:58.92361Z",
          "iopub.status.idle": "2024-04-14T16:02:00.020856Z",
          "shell.execute_reply.started": "2024-04-14T16:01:58.923575Z",
          "shell.execute_reply": "2024-04-14T16:02:00.019977Z"
        },
        "trusted": true,
        "id": "2gEJkOOzpXQs"
      },
      "execution_count": null,
      "outputs": []
    },
    {
      "cell_type": "code",
      "source": [
        "data_cl.info() #precleaning data"
      ],
      "metadata": {
        "execution": {
          "iopub.status.busy": "2024-04-14T16:02:00.021958Z",
          "iopub.execute_input": "2024-04-14T16:02:00.022733Z",
          "iopub.status.idle": "2024-04-14T16:02:00.083243Z",
          "shell.execute_reply.started": "2024-04-14T16:02:00.022695Z",
          "shell.execute_reply": "2024-04-14T16:02:00.081842Z"
        },
        "trusted": true,
        "id": "I3MPS0sTpXQt"
      },
      "execution_count": null,
      "outputs": []
    },
    {
      "cell_type": "markdown",
      "source": [
        "## Data Exploration"
      ],
      "metadata": {
        "id": "PuuN3eLPpXQt"
      }
    },
    {
      "cell_type": "markdown",
      "source": [
        "### > Data Correlation"
      ],
      "metadata": {
        "id": "j3RuhLlWpXQu"
      }
    },
    {
      "cell_type": "code",
      "source": [
        "plt.figure(figsize=(20,20))\n",
        "sn.heatmap(data_cl.corr(), annot=True)\n",
        "plt.show()"
      ],
      "metadata": {
        "execution": {
          "iopub.status.busy": "2024-04-14T16:02:00.084612Z",
          "iopub.execute_input": "2024-04-14T16:02:00.084953Z",
          "iopub.status.idle": "2024-04-14T16:02:04.028893Z",
          "shell.execute_reply.started": "2024-04-14T16:02:00.084923Z",
          "shell.execute_reply": "2024-04-14T16:02:04.027958Z"
        },
        "trusted": true,
        "id": "xBrHkc4EpXQu"
      },
      "execution_count": null,
      "outputs": []
    },
    {
      "cell_type": "markdown",
      "source": [
        "#### From Correlation Matrix, possible features relating with label are as follows:\n",
        "\n",
        "- iron concentrate\n",
        "- amina flow\n",
        "- ore pulp flow\n",
        "- ore pulp density\n",
        "- flotation air flow (01|02|03)\n",
        "- flotation column level (04|05|06|07)\n",
        "- % silica feed (**Added by sense of my mind)\n"
      ],
      "metadata": {
        "id": "KZCZP9TupXQv"
      }
    },
    {
      "cell_type": "code",
      "source": [
        "data_cl.columns"
      ],
      "metadata": {
        "execution": {
          "iopub.status.busy": "2024-04-14T16:02:04.032313Z",
          "iopub.execute_input": "2024-04-14T16:02:04.033359Z",
          "iopub.status.idle": "2024-04-14T16:02:04.040626Z",
          "shell.execute_reply.started": "2024-04-14T16:02:04.033312Z",
          "shell.execute_reply": "2024-04-14T16:02:04.039644Z"
        },
        "trusted": true,
        "id": "N3CfjGqEpXQv"
      },
      "execution_count": null,
      "outputs": []
    },
    {
      "cell_type": "code",
      "source": [
        "## Feature vs Label Correlation Plot\n",
        "\n",
        "fig, axs =plt.subplots(4,2,figsize=(8, 8))\n",
        "fig.suptitle('Possible features correlation to label')\n",
        "\n",
        "\n",
        "axs[0,0].scatter(data_cl['% Iron Concentrate'],data_cl['% Silica Concentrate'])\n",
        "axs[0,0].set_xlabel(['% Iron Concentrate'])\n",
        "axs[0,0].set_ylabel(['% Silica Concentrate'])\n",
        "\n",
        "axs[0,1].scatter(data_cl['Amina Flow'],data_cl['% Silica Concentrate'])\n",
        "axs[0,1].set_xlabel(['Amina Flow'])\n",
        "axs[0,1].set_ylabel(['% Silica Concentrate'])\n",
        "\n",
        "axs[1,0].scatter(data_cl['Ore Pulp Flow'],data_cl['% Silica Concentrate'])\n",
        "axs[1,0].set_xlabel(['Ore Pulp Flow'])\n",
        "axs[1,0].set_ylabel(['% Silica Concentrate'])\n",
        "\n",
        "axs[1,1].scatter(data_cl['Ore Pulp Density'],data_cl['% Silica Concentrate'])\n",
        "axs[1,1].set_xlabel(['Ore Pulp Density'])\n",
        "axs[1,1].set_ylabel(['% Silica Concentrate'])\n",
        "\n",
        "axs[2,0].scatter(data_cl['Flotation Column 01 Air Flow'],data_cl['% Silica Concentrate'])\n",
        "axs[2,0].set_xlabel(['Flotation Column 01 Air Flow'])\n",
        "axs[2,0].set_ylabel(['% Silica Concentrate'])\n",
        "\n",
        "axs[2,1].scatter(data_cl[ 'Flotation Column 04 Level'],data_cl['% Silica Concentrate'])\n",
        "axs[2,1].set_xlabel([ 'Flotation Column 04 Level'])\n",
        "axs[2,1].set_ylabel(['% Silica Concentrate'])\n",
        "\n",
        "\n",
        "axs[3,0].scatter(data_cl['% Silica Feed'],data_cl['% Silica Concentrate'])\n",
        "axs[3,0].set_xlabel(['% Silica Feed'])\n",
        "axs[3,0].set_ylabel(['% Silica Concentrate'])\n",
        "\n",
        "\n",
        "axs[3,1].scatter(data_cl['% Silica Concentrate'],data_cl['% Silica Feed'])\n",
        "axs[3,1].set_xlabel(['% Silica Concentrate'])\n",
        "axs[3,1].set_ylabel(['% Silica Feed'])\n",
        "\n",
        "\n",
        "plt.tight_layout()\n"
      ],
      "metadata": {
        "execution": {
          "iopub.status.busy": "2024-04-14T16:02:04.041798Z",
          "iopub.execute_input": "2024-04-14T16:02:04.043006Z",
          "iopub.status.idle": "2024-04-14T16:02:25.380652Z",
          "shell.execute_reply.started": "2024-04-14T16:02:04.042953Z",
          "shell.execute_reply": "2024-04-14T16:02:25.379351Z"
        },
        "trusted": true,
        "id": "zIbS5-tGpXQv"
      },
      "execution_count": null,
      "outputs": []
    },
    {
      "cell_type": "markdown",
      "source": [
        "### >> Data exploration Conclusion\n",
        "\n",
        "##### The significant feature relating with label is on '% iron concentrate' in the product so it is not proper if the model is built without % iron concentrate as feature\n",
        "\n",
        "Action:\n",
        "\n",
        "- Select only the possible features, drop other column\n",
        "- Do feature engineering for % iron concentrate (from x to x^2)"
      ],
      "metadata": {
        "id": "YOZAQx0tpXQw"
      }
    },
    {
      "cell_type": "code",
      "source": [
        "# Action1: Select only the possible features, drop other column\n",
        "\n",
        "data_cl.columns\n",
        "droplist=['% Iron Feed','Starch Flow',\\\n",
        "          'Ore Pulp pH','Flotation Column 02 Air Flow',\\\n",
        "          'Flotation Column 03 Air Flow', 'Flotation Column 04 Air Flow',\\\n",
        "          'Flotation Column 05 Air Flow', 'Flotation Column 06 Air Flow',\\\n",
        "          'Flotation Column 07 Air Flow', 'Flotation Column 01 Level',\n",
        "          'Flotation Column 02 Level', 'Flotation Column 03 Level', 'Flotation Column 05 Level',\n",
        "          'Flotation Column 06 Level', 'Flotation Column 07 Level',]\n",
        "\n",
        "data_cl=data_cl.drop(droplist,axis=1)\n",
        "data_cl.shape"
      ],
      "metadata": {
        "execution": {
          "iopub.status.busy": "2024-04-14T16:02:25.38225Z",
          "iopub.execute_input": "2024-04-14T16:02:25.382706Z",
          "iopub.status.idle": "2024-04-14T16:02:25.495275Z",
          "shell.execute_reply.started": "2024-04-14T16:02:25.382669Z",
          "shell.execute_reply": "2024-04-14T16:02:25.494025Z"
        },
        "trusted": true,
        "id": "st2NyiE5pXQw"
      },
      "execution_count": null,
      "outputs": []
    },
    {
      "cell_type": "code",
      "source": [
        "# Action2 : Polynomial Feature Engineering for\n",
        "\n",
        "data_cl['% Iron Concentrate_power2']=data_cl['% Iron Concentrate']**2\n",
        "\n",
        "data_cl\n"
      ],
      "metadata": {
        "execution": {
          "iopub.status.busy": "2024-04-14T16:02:25.496802Z",
          "iopub.execute_input": "2024-04-14T16:02:25.497827Z",
          "iopub.status.idle": "2024-04-14T16:02:25.526546Z",
          "shell.execute_reply.started": "2024-04-14T16:02:25.497775Z",
          "shell.execute_reply": "2024-04-14T16:02:25.525459Z"
        },
        "trusted": true,
        "id": "IRkxBIlipXQx"
      },
      "execution_count": null,
      "outputs": []
    },
    {
      "cell_type": "markdown",
      "source": [
        "## Training & Selection Regression Model\n",
        "\n",
        "- Linear Regression Model with Regularization Term (Lassso Model)\n",
        "- Linear Regression Model with Regularization Term (Ridge Model)\n",
        "- Random Forest Model\n"
      ],
      "metadata": {
        "id": "n09fLYi7pXQx"
      }
    },
    {
      "cell_type": "code",
      "source": [
        "data_cl.columns"
      ],
      "metadata": {
        "execution": {
          "iopub.status.busy": "2024-04-14T16:02:25.528147Z",
          "iopub.execute_input": "2024-04-14T16:02:25.528473Z",
          "iopub.status.idle": "2024-04-14T16:02:25.535025Z",
          "shell.execute_reply.started": "2024-04-14T16:02:25.528443Z",
          "shell.execute_reply": "2024-04-14T16:02:25.533804Z"
        },
        "trusted": true,
        "id": "5D8q9JmBpXQx"
      },
      "execution_count": null,
      "outputs": []
    },
    {
      "cell_type": "code",
      "source": [
        "## Split data to training set and test set\n",
        "\n",
        "from sklearn.model_selection import train_test_split\n",
        "\n",
        "X=data_cl.drop('% Silica Concentrate',axis=1)\n",
        "\n",
        "y=data_cl['% Silica Concentrate']\n",
        "\n",
        "X_train, X_test, y_train, y_test = train_test_split(X, y, test_size=0.2, random_state=42)\n",
        "\n",
        "print(y.shape)\n",
        "print(y_train.shape)\n",
        "print(y_test.shape)"
      ],
      "metadata": {
        "execution": {
          "iopub.status.busy": "2024-04-14T16:02:25.536691Z",
          "iopub.execute_input": "2024-04-14T16:02:25.537171Z",
          "iopub.status.idle": "2024-04-14T16:02:25.754889Z",
          "shell.execute_reply.started": "2024-04-14T16:02:25.537125Z",
          "shell.execute_reply": "2024-04-14T16:02:25.753338Z"
        },
        "trusted": true,
        "id": "CGWIsgpFpXQx"
      },
      "execution_count": null,
      "outputs": []
    },
    {
      "cell_type": "code",
      "source": [
        "# normalize the training data\n",
        "\n",
        "from sklearn.preprocessing import StandardScaler\n",
        "\n",
        "scaler = StandardScaler()\n",
        "X_train_norm = scaler.fit_transform(X_train)\n",
        "\n",
        "print(f\"Peak to Peak range by column in Raw        X:{np.ptp(X_train,axis=0)}\")\n",
        "print(f\"Peak to Peak range by column in Normalized X:{np.ptp(X_train_norm,axis=0)}\")\n"
      ],
      "metadata": {
        "execution": {
          "iopub.status.busy": "2024-04-14T16:02:25.756478Z",
          "iopub.execute_input": "2024-04-14T16:02:25.757555Z",
          "iopub.status.idle": "2024-04-14T16:02:25.852582Z",
          "shell.execute_reply.started": "2024-04-14T16:02:25.757512Z",
          "shell.execute_reply": "2024-04-14T16:02:25.851471Z"
        },
        "trusted": true,
        "id": "Wfa4SWBNpXQx"
      },
      "execution_count": null,
      "outputs": []
    },
    {
      "cell_type": "code",
      "source": [
        "# Define Validation Function\n",
        "\n",
        "from sklearn.model_selection import cross_validate\n",
        "\n",
        "def model_trainval(model,x,y):\n",
        "\n",
        "    scoring = ['neg_root_mean_squared_error', 'r2']\n",
        "    scores = cross_validate(model, x, y, scoring=scoring)\n",
        "    RMSE = scores['test_neg_root_mean_squared_error'].mean()\n",
        "    R2 = scores['test_r2'].mean()\n",
        "    print(\"Result of Model Validation\")\n",
        "    print(f\"RMSE : {RMSE}\")\n",
        "    print(f\"R2 :{R2}\")\n",
        "\n",
        "    return RMSE,R2\n"
      ],
      "metadata": {
        "execution": {
          "iopub.status.busy": "2024-04-14T16:02:25.853925Z",
          "iopub.execute_input": "2024-04-14T16:02:25.854262Z",
          "iopub.status.idle": "2024-04-14T16:02:25.861851Z",
          "shell.execute_reply.started": "2024-04-14T16:02:25.854225Z",
          "shell.execute_reply": "2024-04-14T16:02:25.860611Z"
        },
        "trusted": true,
        "id": "CHQtvU-rpXQx"
      },
      "execution_count": null,
      "outputs": []
    },
    {
      "cell_type": "code",
      "source": [
        "### Linear Regression Model with Regularization Term (Lassso)\n",
        "\n",
        "from sklearn.linear_model import Lasso\n",
        "\n",
        "reg1=Lasso(alpha=0.001)\n",
        "\n",
        "## Model Training & Cross Validation\n",
        "\n",
        "[RMSE, R2]=model_trainval(reg1,X_train_norm,y_train)\n",
        "\n",
        "RMSE_Col=[]\n",
        "R2_Col=[]\n",
        "\n",
        "RMSE_Col.append(RMSE)\n",
        "R2_Col.append(R2)\n"
      ],
      "metadata": {
        "execution": {
          "iopub.status.busy": "2024-04-14T16:02:25.86336Z",
          "iopub.execute_input": "2024-04-14T16:02:25.863851Z",
          "iopub.status.idle": "2024-04-14T16:02:26.947484Z",
          "shell.execute_reply.started": "2024-04-14T16:02:25.863816Z",
          "shell.execute_reply": "2024-04-14T16:02:26.946105Z"
        },
        "trusted": true,
        "id": "ggRxUY-EpXQx"
      },
      "execution_count": null,
      "outputs": []
    },
    {
      "cell_type": "code",
      "source": [
        "### Linear Regression Model with Regularization Term (Ridge Model)\n",
        "\n",
        "from sklearn.linear_model import Ridge\n",
        "\n",
        "reg2=Ridge(alpha=0.001)\n",
        "\n",
        "## Model Training & Cross Validation\n",
        "\n",
        "[RMSE,R2]=model_trainval(reg2,X_train_norm,y_train)\n",
        "\n",
        "RMSE_Col.append(RMSE)\n",
        "R2_Col.append(R2)"
      ],
      "metadata": {
        "execution": {
          "iopub.status.busy": "2024-04-14T16:02:26.949169Z",
          "iopub.execute_input": "2024-04-14T16:02:26.95088Z",
          "iopub.status.idle": "2024-04-14T16:02:27.721405Z",
          "shell.execute_reply.started": "2024-04-14T16:02:26.95083Z",
          "shell.execute_reply": "2024-04-14T16:02:27.720117Z"
        },
        "trusted": true,
        "id": "rmz7ayG4pXQx"
      },
      "execution_count": null,
      "outputs": []
    },
    {
      "cell_type": "code",
      "source": [
        "### Random Forest Tree Model\n",
        "\n",
        "from sklearn.ensemble import RandomForestRegressor\n",
        "\n",
        "reg3=RandomForestRegressor(max_depth=10,n_estimators=10)\n",
        "\n",
        "## Model Training & Cross Validation\n",
        "\n",
        "[RMSE,R2]=model_trainval(reg3,X_train_norm,y_train)\n",
        "\n",
        "RMSE_Col.append(RMSE)\n",
        "R2_Col.append(R2)"
      ],
      "metadata": {
        "execution": {
          "iopub.status.busy": "2024-04-14T16:02:27.727899Z",
          "iopub.execute_input": "2024-04-14T16:02:27.731349Z",
          "iopub.status.idle": "2024-04-14T16:04:47.007398Z",
          "shell.execute_reply.started": "2024-04-14T16:02:27.731285Z",
          "shell.execute_reply": "2024-04-14T16:04:47.005873Z"
        },
        "trusted": true,
        "id": "EoZgjayIpXQy"
      },
      "execution_count": null,
      "outputs": []
    },
    {
      "cell_type": "markdown",
      "source": [
        "##### Remark: I try to reduce n_estimators to reduce time computation. At n_estimators=100 and n_estimators=10 are not different significantly so I decide to manually adjust n_estimators =10 to reduce training time  "
      ],
      "metadata": {
        "id": "PZHPEiLPpXQy"
      }
    },
    {
      "cell_type": "code",
      "source": [
        "# Tree graphic model\n",
        "\n",
        "reg3.fit(X_train_norm,y_train)\n",
        "\n",
        "plt.figure(figsize=(50,50))\n",
        "\n",
        "from sklearn.tree import plot_tree\n",
        "\n",
        "plot_tree(reg3.estimators_[0],filled=True)\n"
      ],
      "metadata": {
        "execution": {
          "iopub.status.busy": "2024-04-14T16:04:47.00932Z",
          "iopub.execute_input": "2024-04-14T16:04:47.009934Z",
          "iopub.status.idle": "2024-04-14T16:07:14.257895Z",
          "shell.execute_reply.started": "2024-04-14T16:04:47.009887Z",
          "shell.execute_reply": "2024-04-14T16:07:14.256926Z"
        },
        "trusted": true,
        "id": "ZUdxu2bMpXQz"
      },
      "execution_count": null,
      "outputs": []
    },
    {
      "cell_type": "markdown",
      "source": [
        "##### Remark: The trees seem to be complicated so we will test it again with test data to monitor overshooting"
      ],
      "metadata": {
        "id": "Ezt2qFz5pXQz"
      }
    },
    {
      "cell_type": "code",
      "source": [
        "print(RMSE_Col,R2_Col)"
      ],
      "metadata": {
        "execution": {
          "iopub.status.busy": "2024-04-14T16:07:14.259048Z",
          "iopub.execute_input": "2024-04-14T16:07:14.259608Z",
          "iopub.status.idle": "2024-04-14T16:07:14.266428Z",
          "shell.execute_reply.started": "2024-04-14T16:07:14.259548Z",
          "shell.execute_reply": "2024-04-14T16:07:14.264951Z"
        },
        "trusted": true,
        "id": "ZfRA0l20pXQz"
      },
      "execution_count": null,
      "outputs": []
    },
    {
      "cell_type": "code",
      "source": [
        "# plot graph performance comparison each pre-selected model\n",
        "\n",
        "Xgraph=['Losso','Ridge','RandomForest']\n",
        "\n",
        "fig,axes=plt.subplots(nrows=1,ncols=2)\n",
        "\n",
        "fig.suptitle(\"Scoring Result\")\n",
        "axes[0].bar(Xgraph,RMSE_Col)\n",
        "axes[0].set_xlabel(\"Model\")\n",
        "axes[0].set_ylabel(\"RMSE\")\n",
        "\n",
        "axes[1].bar(Xgraph,R2_Col,color='g')\n",
        "axes[1].set_xlabel(\"Model\")\n",
        "axes[1].set_ylabel(\"R2\")\n",
        "\n",
        "plt.tight_layout()\n",
        "plt.show"
      ],
      "metadata": {
        "execution": {
          "iopub.status.busy": "2024-04-14T16:07:14.267939Z",
          "iopub.execute_input": "2024-04-14T16:07:14.268298Z",
          "iopub.status.idle": "2024-04-14T16:07:14.550719Z",
          "shell.execute_reply.started": "2024-04-14T16:07:14.268266Z",
          "shell.execute_reply": "2024-04-14T16:07:14.549529Z"
        },
        "trusted": true,
        "id": "7gYSuflApXQ0"
      },
      "execution_count": null,
      "outputs": []
    },
    {
      "cell_type": "markdown",
      "source": [
        "### Result: a Random Forest model is selected as per scoring result"
      ],
      "metadata": {
        "id": "giElk1gzpXQ0"
      }
    },
    {
      "cell_type": "markdown",
      "source": [
        "## Model Testing (before deployment)\n"
      ],
      "metadata": {
        "id": "mA62RsHepXQ0"
      }
    },
    {
      "cell_type": "code",
      "source": [
        "# normalize the test data\n",
        "\n",
        "scaler = StandardScaler()\n",
        "X_test_norm = scaler.fit_transform(X_test)\n",
        "\n",
        "\n",
        "## Prediction\n",
        "y_pred=reg3.predict(X_test_norm)\n",
        "\n",
        "## Evaluation\n",
        "\n",
        "from sklearn.metrics import mean_squared_error, r2_score\n",
        "\n",
        "RMSE_Testing=mean_squared_error(y_test,y_pred)\n",
        "R2_Testing=r2_score(y_test,y_pred)\n",
        "\n",
        "print(f\"RMSE of test result : {RMSE_Testing} \")\n",
        "print(f\"R2 of test result : {R2_Testing} \")\n"
      ],
      "metadata": {
        "execution": {
          "iopub.status.busy": "2024-04-14T16:07:14.552483Z",
          "iopub.execute_input": "2024-04-14T16:07:14.553914Z",
          "iopub.status.idle": "2024-04-14T16:07:14.75044Z",
          "shell.execute_reply.started": "2024-04-14T16:07:14.553856Z",
          "shell.execute_reply": "2024-04-14T16:07:14.749526Z"
        },
        "trusted": true,
        "id": "S4unMwBkpXQ0"
      },
      "execution_count": null,
      "outputs": []
    },
    {
      "cell_type": "markdown",
      "source": [
        "#### Remark: The result shows that R2 on test data (R2=0.8539 ) and R2 on CV data (R2=0.8672) is not difference significantly so the the model should be just fit but It is monitored again during on production"
      ],
      "metadata": {
        "id": "j-qvBqEYpXQ1"
      }
    },
    {
      "cell_type": "code",
      "source": [
        "#Built Dataframe for test result\n",
        "\n",
        "result_label=pd.DataFrame()\n",
        "\n",
        "result_label['% silica concentrate']=y_test\n",
        "result_label['predicted % silica concentrate']=y_pred"
      ],
      "metadata": {
        "execution": {
          "iopub.status.busy": "2024-04-14T16:07:14.751925Z",
          "iopub.execute_input": "2024-04-14T16:07:14.753071Z",
          "iopub.status.idle": "2024-04-14T16:07:14.774829Z",
          "shell.execute_reply.started": "2024-04-14T16:07:14.753028Z",
          "shell.execute_reply": "2024-04-14T16:07:14.773273Z"
        },
        "trusted": true,
        "id": "a7AhNYbIpXQ1"
      },
      "execution_count": null,
      "outputs": []
    },
    {
      "cell_type": "markdown",
      "source": [
        "## Project Summarization\n",
        "\n",
        "- The Random Forest Model is selected as the prediction model with Root Mean Square error at 0.181 wih R Square at     0.857\n",
        "\n",
        "- Comparing performance between Cross-Validation data set and test set. we found the perfromance that it is not drop     significantly, so the model should be used proper in deployment step\n",
        "\n",
        "- The % iron concentrate is still be used as feature because other features are not relate with the lable significantly, so we are still had to sample to check lab result.\n",
        "\n",
        "- Compared the predicted % silica concentration with test set as below table;  "
      ],
      "metadata": {
        "id": "beZ99XIEpXQ1"
      }
    },
    {
      "cell_type": "code",
      "source": [
        "print(result_label.reset_index().head(50))"
      ],
      "metadata": {
        "execution": {
          "iopub.status.busy": "2024-04-14T16:07:14.776267Z",
          "iopub.execute_input": "2024-04-14T16:07:14.777291Z",
          "iopub.status.idle": "2024-04-14T16:07:14.791006Z",
          "shell.execute_reply.started": "2024-04-14T16:07:14.777253Z",
          "shell.execute_reply": "2024-04-14T16:07:14.789639Z"
        },
        "trusted": true,
        "id": "9iGUswbepXQ8"
      },
      "execution_count": null,
      "outputs": []
    },
    {
      "cell_type": "code",
      "source": [],
      "metadata": {
        "id": "5om2X9gBpXQ9"
      },
      "execution_count": null,
      "outputs": []
    },
    {
      "cell_type": "markdown",
      "source": [
        "using LSTM"
      ],
      "metadata": {
        "id": "qlVGH3repXQ9"
      }
    },
    {
      "cell_type": "code",
      "source": [
        "import numpy as np\n",
        "import pandas as pd\n",
        "from sklearn.model_selection import train_test_split\n",
        "from sklearn.preprocessing import MinMaxScaler\n",
        "from tensorflow.keras.models import Sequential\n",
        "from tensorflow.keras.layers import LSTM, Dense\n",
        "import matplotlib.pyplot as plt"
      ],
      "metadata": {
        "execution": {
          "iopub.status.busy": "2024-04-14T16:23:10.885326Z",
          "iopub.execute_input": "2024-04-14T16:23:10.886187Z",
          "iopub.status.idle": "2024-04-14T16:23:17.514277Z",
          "shell.execute_reply.started": "2024-04-14T16:23:10.886143Z",
          "shell.execute_reply": "2024-04-14T16:23:17.51307Z"
        },
        "trusted": true,
        "id": "uAds6U1FpXQ9"
      },
      "execution_count": null,
      "outputs": []
    },
    {
      "cell_type": "code",
      "source": [
        "data['date'] = pd.to_datetime(data['date'])\n",
        "\n",
        "# Select features\n",
        "features = ['% Iron Feed', 'Starch Flow', 'Amina Flow', 'Ore Pulp Flow', 'Ore Pulp pH', 'Ore Pulp Density']\n",
        "X = data[features]\n",
        "y = data['% Silica Concentrate']\n",
        "\n",
        "# Train-test split\n",
        "X_train, X_test, y_train, y_test = train_test_split(X, y, test_size=0.2, shuffle=True)"
      ],
      "metadata": {
        "execution": {
          "iopub.status.busy": "2024-04-14T16:23:45.428947Z",
          "iopub.execute_input": "2024-04-14T16:23:45.429733Z",
          "iopub.status.idle": "2024-04-14T16:23:46.471462Z",
          "shell.execute_reply.started": "2024-04-14T16:23:45.429689Z",
          "shell.execute_reply": "2024-04-14T16:23:46.47033Z"
        },
        "trusted": true,
        "id": "_CoygQlgpXQ9"
      },
      "execution_count": null,
      "outputs": []
    },
    {
      "cell_type": "code",
      "source": [
        "scaler = MinMaxScaler()\n",
        "# Replace commas with periods and convert to float\n",
        "X_train.replace(',', '.', regex=True, inplace=True)\n",
        "\n",
        "# Now you can convert the entire dataframe to float\n",
        "X_train = X_train.astype(float)\n",
        "\n",
        "# Scale the data\n",
        "X_train_scaled = scaler.fit_transform(X_train)\n",
        "\n",
        "#X_train_scaled = scaler.fit_transform(X_train)\n",
        "#X_test_scaled = scaler.transform(X_test)\n",
        "X_test.replace(',', '.', regex=True, inplace=True)\n",
        "\n",
        "# Convert the entire dataframe to float\n",
        "X_test = X_test.astype(float)\n",
        "\n",
        "# Scale the data\n",
        "X_test_scaled = scaler.transform(X_test)\n",
        "\n",
        "# Reshape data for LSTM\n",
        "X_train_reshaped = X_train_scaled.reshape((X_train_scaled.shape[0], 1, X_train_scaled.shape[1]))\n",
        "X_test_reshaped = X_test_scaled.reshape((X_test_scaled.shape[0], 1, X_test_scaled.shape[1]))"
      ],
      "metadata": {
        "execution": {
          "iopub.status.busy": "2024-04-14T16:29:09.293067Z",
          "iopub.execute_input": "2024-04-14T16:29:09.293505Z",
          "iopub.status.idle": "2024-04-14T16:29:18.76409Z",
          "shell.execute_reply.started": "2024-04-14T16:29:09.29347Z",
          "shell.execute_reply": "2024-04-14T16:29:18.762924Z"
        },
        "trusted": true,
        "id": "U4epYp0KpXQ9"
      },
      "execution_count": null,
      "outputs": []
    },
    {
      "cell_type": "code",
      "source": [
        "model = Sequential()\n",
        "model.add(LSTM(50, input_shape=(X_train_reshaped.shape[1], X_train_reshaped.shape[2])))\n",
        "model.add(Dense(1))\n",
        "model.compile(optimizer='adam', loss='mse')"
      ],
      "metadata": {
        "execution": {
          "iopub.status.busy": "2024-04-14T16:29:49.799828Z",
          "iopub.execute_input": "2024-04-14T16:29:49.801257Z",
          "iopub.status.idle": "2024-04-14T16:29:50.225796Z",
          "shell.execute_reply.started": "2024-04-14T16:29:49.801192Z",
          "shell.execute_reply": "2024-04-14T16:29:50.224453Z"
        },
        "trusted": true,
        "id": "GxUJ6BB2pXQ9"
      },
      "execution_count": null,
      "outputs": []
    },
    {
      "cell_type": "code",
      "source": [
        "y_train = y_train.str.replace(',', '.').astype(float)\n",
        "y_test = y_test.str.replace(',', '.').astype(float)\n",
        "\n",
        "history = model.fit(X_train_reshaped, y_train, epochs=10, batch_size=32, validation_data=(X_test_reshaped, y_test), verbose=2, shuffle=False)"
      ],
      "metadata": {
        "execution": {
          "iopub.status.busy": "2024-04-14T16:49:22.496955Z",
          "iopub.execute_input": "2024-04-14T16:49:22.497456Z",
          "iopub.status.idle": "2024-04-14T16:49:22.536182Z",
          "shell.execute_reply.started": "2024-04-14T16:49:22.497421Z",
          "shell.execute_reply": "2024-04-14T16:49:22.534571Z"
        },
        "trusted": true,
        "id": "VPEgcg3zpXQ9"
      },
      "execution_count": null,
      "outputs": []
    },
    {
      "cell_type": "code",
      "source": [],
      "metadata": {
        "id": "eDi3znUJpXQ-"
      },
      "execution_count": null,
      "outputs": []
    }
  ]
}