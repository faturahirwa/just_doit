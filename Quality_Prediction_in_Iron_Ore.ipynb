{
  "cells": [
    {
      "cell_type": "markdown",
      "metadata": {
        "id": "view-in-github",
        "colab_type": "text"
      },
      "source": [
        "<a href=\"https://colab.research.google.com/github/unmatched78/just_doit/blob/main/Quality_Prediction_in_Iron_Ore.ipynb\" target=\"_parent\"><img src=\"https://colab.research.google.com/assets/colab-badge.svg\" alt=\"Open In Colab\"/></a>"
      ]
    },
    {
      "source": [
        "# IMPORTANT: RUN THIS CELL IN ORDER TO IMPORT YOUR KAGGLE DATA SOURCES,\n",
        "# THEN FEEL FREE TO DELETE THIS CELL.\n",
        "# NOTE: THIS NOTEBOOK ENVIRONMENT DIFFERS FROM KAGGLE'S PYTHON\n",
        "# ENVIRONMENT SO THERE MAY BE MISSING LIBRARIES USED BY YOUR\n",
        "# NOTEBOOK.\n",
        "import kagglehub\n",
        "edumagalhaes_quality_prediction_in_a_mining_process_path = kagglehub.dataset_download('edumagalhaes/quality-prediction-in-a-mining-process')\n",
        "\n",
        "print('Data source import complete.')\n"
      ],
      "metadata": {
        "id": "RngHlUYBpJ6O"
      },
      "cell_type": "code",
      "outputs": [],
      "execution_count": null
    },
    {
      "metadata": {
        "_uuid": "8f2839f25d086af736a60e9eeb907d3b93b6e0e5",
        "_cell_guid": "b1076dfc-b9ad-4769-8c92-a6c4dae69d19",
        "trusted": true,
        "id": "a-AYntz1pJ6R"
      },
      "cell_type": "markdown",
      "source": [
        "# Quality Prediction in Iron Ore Mining"
      ]
    },
    {
      "metadata": {
        "_cell_guid": "79c7e3d0-c299-4dcb-8224-4455121ee9b0",
        "collapsed": true,
        "_uuid": "d629ff2d2480ee46fbb7e2d37f6b5fab8052498a",
        "trusted": false,
        "id": "N1sqcLBspJ6S"
      },
      "cell_type": "markdown",
      "source": [
        "Our Aim is to predict the percentage of silica in the end of the mining process of the iron ore"
      ]
    },
    {
      "metadata": {
        "_uuid": "a18b9be47a774a5b318cf0d6cee24189a40a8482",
        "id": "osQ1OWUYpJ6S"
      },
      "cell_type": "markdown",
      "source": [
        "### Importing the Libraries"
      ]
    },
    {
      "metadata": {
        "trusted": true,
        "_uuid": "fb5f399f18a316c17e4c0fff222ff85c01cccf59",
        "id": "SXu8VTo_pJ6T"
      },
      "cell_type": "code",
      "source": [
        "import numpy as np\n",
        "import pandas as pd\n",
        "import matplotlib.pyplot as plt\n",
        "import seaborn as sns"
      ],
      "execution_count": null,
      "outputs": []
    },
    {
      "metadata": {
        "_uuid": "1d421597fe860830bfa6991a4d05efdd21ebedb5",
        "id": "AFVUWiB-pJ6T"
      },
      "cell_type": "markdown",
      "source": [
        "### Importing the Dataset"
      ]
    },
    {
      "metadata": {
        "trusted": true,
        "_uuid": "fca0d82ac38ee42bfc20d2db1ed4aeb34f43bd85",
        "id": "HxN4ZR68pJ6T"
      },
      "cell_type": "code",
      "source": [
        "df = pd.read_csv(\"../input/MiningProcess_Flotation_Plant_Database.csv\",decimal=\",\",parse_dates=[\"date\"],infer_datetime_format=True).drop_duplicates()"
      ],
      "execution_count": null,
      "outputs": []
    },
    {
      "metadata": {
        "_uuid": "715d1f51baf5a379a326b7ee6ed2e495c844689e",
        "id": "1fMrc1IWpJ6U"
      },
      "cell_type": "markdown",
      "source": [
        "### A basic analysis of dataset"
      ]
    },
    {
      "metadata": {
        "trusted": true,
        "_uuid": "24e0afd0d10f7967a29f69e53d6525814dd26939",
        "id": "VWzNlkS_pJ6V"
      },
      "cell_type": "code",
      "source": [
        "df.head()"
      ],
      "execution_count": null,
      "outputs": []
    },
    {
      "metadata": {
        "_uuid": "f7b9e11af528a7ddc39bada109b4564804167c92",
        "id": "F7f1ckc0pJ6V"
      },
      "cell_type": "markdown",
      "source": [
        "* In the dataset we have to predict the  **% Silica Concentrate**\n",
        "* Silica Concentrate is the impurity in the iron ore which needs to be removed\n",
        "* The current process of detecting silica takes many hours.\n",
        "* With the help of some analysis and modelling of data we can give a good approximation of silica concentrate which will reduce a lot of time and effort required for processing iron ore"
      ]
    },
    {
      "metadata": {
        "trusted": true,
        "_uuid": "4cef34bb666e03c2a688055f32fb702938bd55da",
        "id": "BeaPbWs4pJ6V"
      },
      "cell_type": "code",
      "source": [
        "df.shape"
      ],
      "execution_count": null,
      "outputs": []
    },
    {
      "metadata": {
        "trusted": true,
        "_uuid": "4e770fc3d47a5d80d33d635a87ac05cd4b8ee797",
        "id": "SqTb3ZuDpJ6W"
      },
      "cell_type": "code",
      "source": [
        "df = df.dropna()\n",
        "df.shape"
      ],
      "execution_count": null,
      "outputs": []
    },
    {
      "metadata": {
        "_uuid": "dce71950a3d5d83f303f29519f4304bc27d26d62",
        "id": "w0CgcrXDpJ6W"
      },
      "cell_type": "markdown",
      "source": [
        "Great! So we can see that there are no null values in the dataset."
      ]
    },
    {
      "metadata": {
        "trusted": true,
        "_uuid": "bf8938f0e7ddb5e4f773271331e3f8884f0a9e44",
        "id": "LVsmbr8JpJ6W"
      },
      "cell_type": "code",
      "source": [
        "df.describe()"
      ],
      "execution_count": null,
      "outputs": []
    },
    {
      "metadata": {
        "_uuid": "b7f89e066e9b9ee429995b8c93582285789216f7",
        "id": "06_tDGHOpJ6W"
      },
      "cell_type": "markdown",
      "source": [
        "A basic decsription of the dataset"
      ]
    },
    {
      "metadata": {
        "trusted": true,
        "_uuid": "37dc6b75d2cda96baa8d45515e974bb06a9dbbb3",
        "id": "NpFaEKIkpJ6W"
      },
      "cell_type": "code",
      "source": [
        "plt.figure(figsize=(30, 25))\n",
        "p = sns.heatmap(df.corr(), annot=True)"
      ],
      "execution_count": null,
      "outputs": []
    },
    {
      "metadata": {
        "_uuid": "915041d5685ac5a4be59cfd42e0404fc6571d10d",
        "id": "hxDpDcV8pJ6X"
      },
      "cell_type": "markdown",
      "source": [
        "Above plot shows the correaltions between the features.\n",
        "From the plot we can find out the features which affects the % Silica Concentrate the most"
      ]
    },
    {
      "metadata": {
        "_uuid": "cc5c7ff03d4a11c83ef1b27c7c53beb35ff584a1",
        "id": "7P5NtzGCpJ6X"
      },
      "cell_type": "markdown",
      "source": [
        "### Preparing the Dataset"
      ]
    },
    {
      "metadata": {
        "_uuid": "708257be88caf62c90278e2762794e0a54ee5974",
        "id": "2gFuyb0rpJ6X"
      },
      "cell_type": "markdown",
      "source": [
        "Now we will have to drop those features which are not useful for us"
      ]
    },
    {
      "metadata": {
        "trusted": true,
        "_uuid": "2f1eb4cc4b961c283ec6bdb5942dc0fbdac54f82",
        "id": "zik2mws5pJ6X"
      },
      "cell_type": "code",
      "source": [
        "df = df.drop(['date', '% Iron Concentrate', 'Ore Pulp pH', 'Flotation Column 01 Air Flow', 'Flotation Column 02 Air Flow', 'Flotation Column 03 Air Flow'], axis=1)"
      ],
      "execution_count": null,
      "outputs": []
    },
    {
      "metadata": {
        "trusted": true,
        "_uuid": "590e755ac30c141dd6ac9feed877dab6bf7e12f9",
        "id": "tShuBheIpJ6X"
      },
      "cell_type": "code",
      "source": [
        "df.head()"
      ],
      "execution_count": null,
      "outputs": []
    },
    {
      "metadata": {
        "trusted": true,
        "_uuid": "c549a7431db53924ee4fc1aac06bba1d28a7fd99",
        "id": "ZmUO5RsjpJ6X"
      },
      "cell_type": "code",
      "source": [
        "Y = df['% Silica Concentrate']\n",
        "X = df.drop(['% Silica Concentrate'], axis=1)"
      ],
      "execution_count": null,
      "outputs": []
    },
    {
      "metadata": {
        "_uuid": "d740046b2c41b10537aba6932ed3d5c568c950cf",
        "id": "A-WqVl7upJ6X"
      },
      "cell_type": "markdown",
      "source": [
        "### Scaling the features"
      ]
    },
    {
      "metadata": {
        "trusted": true,
        "_uuid": "ec98fc1b5647ae905cd924684636a9e540585010",
        "id": "GGlXbzOepJ6X"
      },
      "cell_type": "code",
      "source": [
        "from sklearn import preprocessing\n",
        "min_max_scaler = preprocessing.MinMaxScaler()"
      ],
      "execution_count": null,
      "outputs": []
    },
    {
      "metadata": {
        "trusted": true,
        "_uuid": "88ab01e4f98e0622591c3588b2f9d6150f3ff0ac",
        "id": "2MFWRB1ipJ6X"
      },
      "cell_type": "code",
      "source": [
        "X_scaled = pd.DataFrame(min_max_scaler.fit_transform(X), columns=X.columns)"
      ],
      "execution_count": null,
      "outputs": []
    },
    {
      "metadata": {
        "_uuid": "c145666483b53a19aa1fc30a517c5e535da59e67",
        "id": "jG2w4i6EpJ6Y"
      },
      "cell_type": "markdown",
      "source": [
        "### Splitting the Data"
      ]
    },
    {
      "metadata": {
        "_uuid": "600e38a7f8d9633a4ca76bb1a0ff4c7eeff824bc",
        "id": "TGO6XR8ypJ6Y"
      },
      "cell_type": "markdown",
      "source": [
        "Now we will split data into train and test set"
      ]
    },
    {
      "metadata": {
        "trusted": true,
        "_uuid": "4b05df34a9906b8eaefa990a0b53c1434ad4be28",
        "id": "YEHG1JdfpJ6Y"
      },
      "cell_type": "code",
      "source": [
        "from sklearn.model_selection import train_test_split"
      ],
      "execution_count": null,
      "outputs": []
    },
    {
      "metadata": {
        "trusted": true,
        "_uuid": "d36de44bac0e0b4922680e44ad7f68973d5e3dda",
        "id": "FNxOvvbSpJ6Y"
      },
      "cell_type": "code",
      "source": [
        "X_train, X_test, Y_train, Y_test = train_test_split(X_scaled, Y, test_size=0.3, random_state=42)"
      ],
      "execution_count": null,
      "outputs": []
    },
    {
      "metadata": {
        "_uuid": "ae9c929cbf4ed33a664c531ab3f310778b53126b",
        "id": "lugKd4NspJ6Y"
      },
      "cell_type": "markdown",
      "source": [
        "### Training a Model"
      ]
    },
    {
      "metadata": {
        "_uuid": "34cf4654656818873cf3f97c5a73b298f8383e65",
        "id": "H2Kf4L5LpJ6Y"
      },
      "cell_type": "markdown",
      "source": [
        "#### Using Linear Regression"
      ]
    },
    {
      "metadata": {
        "trusted": true,
        "_uuid": "a46238af39ac208552a3dc6de42d6f67ec314124",
        "id": "O1GNLg2upJ6Y"
      },
      "cell_type": "code",
      "source": [
        "from sklearn.linear_model import LinearRegression"
      ],
      "execution_count": null,
      "outputs": []
    },
    {
      "metadata": {
        "trusted": true,
        "_uuid": "be971c5c431ec65e6e8275927446c02ba65f7191",
        "id": "oMrkGA1kpJ6Y"
      },
      "cell_type": "code",
      "source": [
        "reg = LinearRegression()"
      ],
      "execution_count": null,
      "outputs": []
    },
    {
      "metadata": {
        "trusted": true,
        "_uuid": "a134db5cfedb1a47f73fb5ade8cec943cde3a79c",
        "id": "_-jykwn5pJ6Y"
      },
      "cell_type": "code",
      "source": [
        "_ = reg.fit(X_train, Y_train)"
      ],
      "execution_count": null,
      "outputs": []
    },
    {
      "metadata": {
        "trusted": true,
        "_uuid": "4b00faab0456b0e7053bba977120c077b2f0354e",
        "id": "x2FpeEn0pJ6Y"
      },
      "cell_type": "code",
      "source": [
        "predictions = reg.predict(X_test)\n",
        "predictions"
      ],
      "execution_count": null,
      "outputs": []
    },
    {
      "metadata": {
        "_uuid": "0a0951348df2c88eab6d5f1f6e466ac229d90452",
        "id": "ZLIuMIfwpJ6Y"
      },
      "cell_type": "markdown",
      "source": [
        "Finding Mean Squared Error"
      ]
    },
    {
      "metadata": {
        "trusted": true,
        "_uuid": "d0419402cc42f439314e9a18dc5fa20dfba6f841",
        "id": "pjU4muq7pJ6Z"
      },
      "cell_type": "code",
      "source": [
        "from sklearn.metrics import mean_squared_error"
      ],
      "execution_count": null,
      "outputs": []
    },
    {
      "metadata": {
        "trusted": true,
        "_uuid": "ceb99fdf6a4c8b6ec2f996be25b22b2dc6b34a7a",
        "id": "QvN_1arUpJ6Z"
      },
      "cell_type": "code",
      "source": [
        "error = mean_squared_error(Y_test, predictions)\n",
        "error"
      ],
      "execution_count": null,
      "outputs": []
    },
    {
      "metadata": {
        "trusted": true,
        "_uuid": "e313b56e9547e19ba7cefdb7782f68754e85c200",
        "id": "tBrWmrWBpJ6Z"
      },
      "cell_type": "markdown",
      "source": [
        "#### Using Stochastic Gradient Descent"
      ]
    },
    {
      "metadata": {
        "trusted": true,
        "_uuid": "95cace4e6457858ebee7fa067a3ca746f033f74f",
        "id": "Vqu8RPhWpJ6e"
      },
      "cell_type": "code",
      "source": [
        "from sklearn.linear_model import SGDRegressor"
      ],
      "execution_count": null,
      "outputs": []
    },
    {
      "metadata": {
        "trusted": true,
        "_uuid": "d26d49ccf3d17e2055162ab8f0df530e449c425d",
        "id": "RbOLetM7pJ6f"
      },
      "cell_type": "code",
      "source": [
        "reg_sgd = SGDRegressor(max_iter=1000, tol=1e-3)"
      ],
      "execution_count": null,
      "outputs": []
    },
    {
      "metadata": {
        "trusted": true,
        "_uuid": "58ec8834bb7835b9da7877557f5235a57f418dfc",
        "id": "jTwpDOgFpJ6f"
      },
      "cell_type": "code",
      "source": [
        "_ = reg_sgd.fit(X_train, Y_train)"
      ],
      "execution_count": null,
      "outputs": []
    },
    {
      "metadata": {
        "trusted": true,
        "_uuid": "3736db624dd467ab24dd7ac6434ac6b586f067d3",
        "id": "e1GarHR7pJ6f"
      },
      "cell_type": "code",
      "source": [
        "predicitons_sgd = reg_sgd.predict(X_test)"
      ],
      "execution_count": null,
      "outputs": []
    },
    {
      "metadata": {
        "_uuid": "4f0b725ed38b985c845be589fd178c19084d3aa5",
        "id": "1ZVwQDf7pJ6f"
      },
      "cell_type": "markdown",
      "source": [
        "Finding Mean Squared Error"
      ]
    },
    {
      "metadata": {
        "trusted": true,
        "_uuid": "0b27044b5519bdd2e237e08efddb5b576142628b",
        "id": "STZ8uIkdpJ6f"
      },
      "cell_type": "code",
      "source": [
        "error_sgd = mean_squared_error(Y_test, predicitons_sgd)\n",
        "error_sgd"
      ],
      "execution_count": null,
      "outputs": []
    },
    {
      "metadata": {
        "trusted": true,
        "_uuid": "40febc41e765ca0b0aca4307f6b8ade4bb227253",
        "id": "aYBlymV6pJ6f"
      },
      "cell_type": "code",
      "source": [],
      "execution_count": null,
      "outputs": []
    }
  ],
  "metadata": {
    "kernelspec": {
      "display_name": "Python 3",
      "language": "python",
      "name": "python3"
    },
    "language_info": {
      "name": "python",
      "version": "3.6.6",
      "mimetype": "text/x-python",
      "codemirror_mode": {
        "name": "ipython",
        "version": 3
      },
      "pygments_lexer": "ipython3",
      "nbconvert_exporter": "python",
      "file_extension": ".py"
    },
    "colab": {
      "name": "Quality Prediction in Iron Ore",
      "provenance": [],
      "include_colab_link": true
    }
  },
  "nbformat": 4,
  "nbformat_minor": 0
}